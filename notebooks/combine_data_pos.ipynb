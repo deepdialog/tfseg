{
 "cells": [
  {
   "cell_type": "code",
   "execution_count": 17,
   "metadata": {},
   "outputs": [],
   "source": [
    "import os\n",
    "import re\n",
    "from tqdm import tqdm"
   ]
  },
  {
   "cell_type": "code",
   "execution_count": 18,
   "metadata": {},
   "outputs": [],
   "source": [
    "def compose1(paths):\n",
    "    if isinstance(paths, str):\n",
    "        paths = [paths]\n",
    "    def to_bi(line):\n",
    "        segs = re.findall(r'([^/]+)/([a-zA-Z]+)\\s+', line)\n",
    "        x = []\n",
    "        y = []\n",
    "        for seg, pos in segs:\n",
    "            seg = list(seg)\n",
    "            tag = [pos] * len(seg)\n",
    "            tag[0] = 'B' + tag[0]\n",
    "            for j in range(1, len(tag)):\n",
    "                tag[j] = 'I' + tag[j]\n",
    "            x += seg\n",
    "            y += tag\n",
    "        return x, y\n",
    "    X, Y = [], []\n",
    "    for path in paths:\n",
    "        data = open(path).read()\n",
    "        lines = data.split('\\n')\n",
    "        for line in tqdm(lines):\n",
    "            x, y = to_bi(line)\n",
    "            X.append(x)\n",
    "            Y.append(y)\n",
    "    print(len(X), len(Y))\n",
    "    return X, Y"
   ]
  },
  {
   "cell_type": "code",
   "execution_count": 19,
   "metadata": {},
   "outputs": [
    {
     "name": "stdout",
     "output_type": "stream",
     "text": [
      "dev.txt  test.txt  train.txt\r\n"
     ]
    }
   ],
   "source": [
    "!ls '../multi-criteria-cws/data/other/cnc/'"
   ]
  },
  {
   "cell_type": "code",
   "execution_count": 20,
   "metadata": {},
   "outputs": [
    {
     "name": "stdout",
     "output_type": "stream",
     "text": [
      "安特卫普/ns 会议/n 后/nd 不久/n ，/w 国际上/nl 冷战/n 加剧/v ，/w 西欧/ns 社会党/n 与/c 共产党/n 之间/nd 关系/n 日趋/d 对立/v ，/w 统一/a 的/u 世界/n 工会/j 组织/n 发生/v 了/u 分裂/v ；/w １９４７/m 年/nt ９/m 月/nt 成立/v 了/u 九/m 国/n 共产党/n 情报局/n ；/w 同时/v ，/w 东欧/ns 各国/n 社会民主党/n 在/p 苏联/ns 占领/v 军事/n 当局/n 的/u 命令/n 下/nd 和/c 共产党/n 合并/v ，/w 因而/c 被/p 国际/n 社会党/n 会议/n 委员会/n 开除/v 出去/vd ，/w 意大利/ns 社会党/n 在/p １９４９/m 年/nt 仍/d 坚持/v 同意/v 其/r 合作/v ，/w 也/d 被/p 取消/v 了/u 委员/n 的/u 资格/n 。/w\r\n",
      "我/r 走/v 过去/vd 轻/a 唤/v 一/m 声/n ：/w \"/w 齐静/nh ，/w 你/r 怎么/r 在/p 这儿/r ？/w \"/w\r\n",
      "１４/m ．/w 如/v 图/n ，/w 正/a 五/m 边/n 形/n 的/u 对角线/n ＡＣ/ws 和/c ＢＥ/ws 相交/v 于/p 点/n Ｍ/ws 。/w\r\n",
      "在/p 后台/n 没有/v 演员/n 打闹/v 的/u 声音/n ，/w 大家/n 都/d 安静/a 地/u 在/p 那里/r 沉思/v ，/w 等/v 出场/v 。/w\r\n",
      "春天/nt ，/w 又/d 一个/mq 生机勃勃/i 的/u 春天/nt 。/w\r\n",
      "新/a 战士/n 赵端生/nh 同志/n ，/w 在/p 西南/nd 的/u 另/r 一/m 处/n 朝/p 房顶/n 上/nd 打/v 手榴弹/n ，/w 他/r 打死/v 了/u 两/m 个/q 敌人/n ，/w 自己/r 也/d 受/v 了/u 伤/n 。/w\r\n",
      "目的/n 与/c 因果/n 、/w 价值/n 的/u 与/c 客观/a 科学/n 的/u 两/m 个/q 环节/n 之所以/c 能够/vu 统一/v ，/w 其/r 真正/a 的/u 基础/n 在于/v 人类/n 的/u 实践/n 。/w\r\n",
      "武昌/ns 首义/n ，/w 是/vl 由/p 湖北/ns 新军/n 首先/d 发难/v 的/u ，/w 相继/d 而/c 起/v 的/u 各/r 省/n 独立/v ，/w 也/d 都/d 程度/n 不同/a 的/u 与/c 当地/nl 新军/n 有关/v 。/w\r\n",
      "哎呀/e ，/w 日本/ns 民歌/n 都会/vu 唱/v 啊/u ？/w\r\n",
      "再/d 如/v \"/w 研究/v 科学/n \"/w 不能/vu 说成/v \"/w 考虑/v 科学/n \"/w ，/w \"/w 受到/v 欢迎/v \"/w 、/w \"/w 受到/v 表扬/v \"/w 也/d 不能/vu 说/v \"/w 遭到/v 欢迎/v 或/c 表扬/v \"/w 。/w\r\n"
     ]
    }
   ],
   "source": [
    "!head '../multi-criteria-cws/data/other/cnc/train.txt'"
   ]
  },
  {
   "cell_type": "code",
   "execution_count": 21,
   "metadata": {},
   "outputs": [
    {
     "name": "stderr",
     "output_type": "stream",
     "text": [
      "100%|██████████| 207002/207002 [00:08<00:00, 23281.86it/s]\n",
      "100%|██████████| 25876/25876 [00:00<00:00, 28095.56it/s]"
     ]
    },
    {
     "name": "stdout",
     "output_type": "stream",
     "text": [
      "232878 232878\n"
     ]
    },
    {
     "name": "stderr",
     "output_type": "stream",
     "text": [
      "\n"
     ]
    }
   ],
   "source": [
    "cnc_data = compose1([\n",
    "    '../multi-criteria-cws/data/other/cnc/train.txt',\n",
    "    '../multi-criteria-cws/data/other/cnc/dev.txt',\n",
    "    # '../multi-criteria-cws/data/other/cnc/test.txt'\n",
    "])"
   ]
  },
  {
   "cell_type": "code",
   "execution_count": 22,
   "metadata": {},
   "outputs": [
    {
     "name": "stdout",
     "output_type": "stream",
     "text": [
      "安 特 卫 普 会 议 后 不 久 ， 国 际 上 冷 战 加 剧 ， 西 欧 社 会 党 与 共 产 党 之 间 关 系 日 趋 对 立 ， 统 一 的 世 界 工 会 组 织 发 生 了 分 裂 ； １ ９ ４ ７ 年 ９ 月 成 立 了 九 国 共 产 党 情 报 局 ； 同 时 ， 东 欧 各 国 社 会 民 主 党 在 苏 联 占 领 军 事 当 局 的 命 令 下 和 共 产 党 合 并 ， 因 而 被 国 际 社 会 党 会 议 委 员 会 开 除 出 去 ， 意 大 利 社 会 党 在 １ ９ ４ ９ 年 仍 坚 持 同 意 其 合 作 ， 也 被 取 消 了 委 员 的 资 格 Bns Ins Ins Ins Bn In Bnd Bn In Bw Bnl Inl Inl Bn In Bv Iv Bw Bns Ins Bn In In Bc Bn In In Bnd Ind Bn In Bd Id Bv Iv Bw Ba Ia Bu Bn In Bj Ij Bn In Bv Iv Bu Bv Iv Bw Bm Im Im Im Bnt Bm Bnt Bv Iv Bu Bm Bn Bn In In Bn In In Bw Bv Iv Bw Bns Ins Bn In Bn In In In In Bp Bns Ins Bv Iv Bn In Bn In Bu Bn In Bnd Bc Bn In In Bv Iv Bw Bc Ic Bp Bn In Bn In In Bn In Bn In In Bv Iv Bvd Ivd Bw Bns Ins Ins Bn In In Bp Bm Im Im Im Bnt Bd Bv Iv Bv Iv Br Bv Iv Bw Bd Bp Bv Iv Bu Bn In Bu Bn In\n",
      " \n",
      "我 走 过 去 轻 唤 一 声 ： \" 齐 静 ， 你 怎 么 在 这 儿 ？ Br Bv Bvd Ivd Ba Bv Bm Bn Bw Bw Bnh Inh Bw Br Br Ir Bp Br Ir Bw\n",
      "对 象 的 审 美 特 性 非 但 不 与 主 体 的 审 美 个 性 和 审 美 趣 味 具 有 同 构 性 ， 反 之 ， 恰 恰 是 对 主 体 的 性 格 、 旨 趣 、 需 要 、 愿 望 、 理 想 的 消 极 的 抑 制 和 否 定 Bn In Bu Bv Iv Bn In Bc Ic Bd Bc Bn In Bu Bv Iv Bn In Bc Bv Iv Bn In Bv Iv Bv Iv Bk Bw Bc Ic Bw Bd Id Bvl Bp Bn In Bu Bn In Bw Bn In Bw Bv Iv Bw Bn In Bw Bn In Bu Ba Ia Bu Bv Iv Bc Bv Iv\n"
     ]
    }
   ],
   "source": [
    "for i in range(2):\n",
    "    print(' '.join(cnc_data[0][i]), ' '.join(cnc_data[1][i]))\n",
    "    print(' '.join(cnc_data[0][-i-1]), ' '.join(cnc_data[1][-i-1]))"
   ]
  },
  {
   "cell_type": "code",
   "execution_count": 23,
   "metadata": {},
   "outputs": [
    {
     "name": "stdout",
     "output_type": "stream",
     "text": [
      "232878\n"
     ]
    }
   ],
   "source": [
    "print(len(cnc_data[0]))"
   ]
  },
  {
   "cell_type": "code",
   "execution_count": 24,
   "metadata": {},
   "outputs": [],
   "source": [
    "zhyw = '../chn_segment_data/out.txt'"
   ]
  },
  {
   "cell_type": "code",
   "execution_count": 25,
   "metadata": {},
   "outputs": [
    {
     "name": "stdout",
     "output_type": "stream",
     "text": [
      "但/c 自从/p 毛主席/nh 向/p 全国/n 农村/n 发出/v \"/w 农业/n 学/v 大/a 寨/n \"/w 的/u 号召/v 以后/nt ，/w 沙石峪/ns 人和/n 大/a 寨/n 一/m 比/p ，/w 立刻/d 找到/v 许多/a 差距/n ，/w 农田/n 基本建设/n 上/nd 的/u 差距/n 显得/v 尤其/d 突出/a ：/w 沙石峪/ns 那/r 瘠/a 薄/a 的/u 土地/n 和/c 大/a 寨/n 的/u 稳产高产/n 海绵/n 田/n 实在/d 不能/vu 相比/v 啊/e ！/w\r\n",
      "亩产/v 达到/v 过/u \"/w 长江/ns \"/w 的/u 两/m 倍/n ，/w 这/r 说来/v 似乎/d 简单/a 轻易/a ，/w 在/p 一个/mq 无/v 霜期/nt 不/d 超过/v 一百八十/m 天/nt 的/u 北国/nl 山村/n ，/w 在/p 解放前/nt 亩产/v 不足/a 百/m 斤/q 的/u 沟/n 梁/n 薄地/n ，/w 在/p 曾经/d 是/vl \"/w 土/n 如/v 珍珠/n 水/n 如/v 油/n \"/w 的/u 赤贫/a 山坳/n ，/w 要/vu 想/v 实现/v 这样/r 的/u 高产/n ，/w 需要/v 付出/v 多/d 大/a 心血/n ，/w 流淌/v 多少/r 汗珠/n ，/w 战胜/v 多少/r 恶/a 风/n ，/w 顶/v 往/p 多少/r 逆流/n 啊/e ！/w\r\n",
      "\"/w 啊/e ，/w 这/r 是/vl 你/r 的/u 爱/v 物/n ，/w 那/r 就/d 更/d 值得/v 我/r 留/v 着/u 作/v 纪念/v 啦/u 。/w \"/w\r\n",
      "二哥/n 在/d 呻吟/v ：/w \"/w 弟弟/n ，/w 你/r 要/vu 给/p 咱家/n 报仇/v 啊/u ！/w \"/w\r\n",
      "主管/v 政法/j 工作/n 的/u 王/nhf 县长/n 对/p 部队/n 的/u 同志/n 说/v ：/w \"/w 李子富/nh 避免/v 了/u 一/m 起/q 人命/n 事故/n ，/w 不愧/d 是/vl 个/q 遵纪守法/i 的/u 好/a 战士/n 啊/u 。/w \"/w\r\n",
      "从/p 邓/nhf 大姐/n 的/u '/w 遗嘱/n '/w ，/w 更/d 能/vu 看出/v 邓/nhf 大姐/n 真/d 是/vl 一个/mq 大公无私/i 的/u 人/n 啊/u ！/w\r\n",
      "\"/w 不能/vu 群龙无首/i 啊/u ，/w 还/d 需要/v 个/q 主编/n ，/w 把/v 着/u 点/q 关/n …/w …/w \"/w\r\n",
      "不/d 把/p 心/n 拴/v 在/p 站里/nl ，/w 总/d 往/p 家/n 跑/v ，/w 对不起/v 党/n 啊/u ！/w \"/w\r\n",
      "一天/nt ，/w 他/r 把/p 全厂/n 干部/n 、/w 工人/n 集合/v 起来/vd ，/w 沉痛/a 地/u 说/v ：/w \"/w 职工/n 的/u 汗水/n …/w …/w 国家/n 的/u 财产/n …/w …/w 我们/r 领导者/n 肩上/nl 的/u 责任/n 该/vu 有/v 多/d 大/a 啊/u ！/w\r\n",
      "当/p 他/r 从/p 女尸/n 的/u 子宫/n 内/nd 取出/v 一个/mq 有/v 两/m 个/q 月/nt 的/u 胎儿/n 时/nt ，/w 他/r 的/u 心/n 象/p 被/p 重重/a 地/u 蜇/v 了/u 一下/mq ：/w \"/w 这/r 是/vl 两/m 条/q 人命/n 啊/u ！/w \"/w\r\n"
     ]
    }
   ],
   "source": [
    "!head '../chn_segment_data/out.txt'"
   ]
  },
  {
   "cell_type": "code",
   "execution_count": 26,
   "metadata": {},
   "outputs": [
    {
     "name": "stderr",
     "output_type": "stream",
     "text": [
      "100%|██████████| 616700/616700 [00:24<00:00, 25334.19it/s]"
     ]
    },
    {
     "name": "stdout",
     "output_type": "stream",
     "text": [
      "616700 616700\n"
     ]
    },
    {
     "name": "stderr",
     "output_type": "stream",
     "text": [
      "\n"
     ]
    }
   ],
   "source": [
    "zhyw_data = compose1(zhyw)"
   ]
  },
  {
   "cell_type": "code",
   "execution_count": 27,
   "metadata": {},
   "outputs": [
    {
     "name": "stdout",
     "output_type": "stream",
     "text": [
      "但 自 从 毛 主 席 向 全 国 农 村 发 出 \" 农 业 学 大 寨 \" 的 号 召 以 后 ， 沙 石 峪 人 和 大 寨 一 比 ， 立 刻 找 到 许 多 差 距 ， 农 田 基 本 建 设 上 的 差 距 显 得 尤 其 突 出 ： 沙 石 峪 那 瘠 薄 的 土 地 和 大 寨 的 稳 产 高 产 海 绵 田 实 在 不 能 相 比 啊 Bc Bp Ip Bnh Inh Inh Bp Bn In Bn In Bv Iv Bw Bn In Bv Ba Bn Bw Bu Bv Iv Bnt Int Bw Bns Ins Ins Bn In Ba Bn Bm Bp Bw Bd Id Bv Iv Ba Ia Bn In Bw Bn In Bn In In In Bnd Bu Bn In Bv Iv Bd Id Ba Ia Bw Bns Ins Ins Br Ba Ba Bu Bn In Bc Ba Bn Bu Bn In In In Bn In Bn Bd Id Bvu Ivu Bv Iv Be\n",
      " \n",
      "亩 产 达 到 过 \" 长 江 \" 的 两 倍 ， 这 说 来 似 乎 简 单 轻 易 ， 在 一 个 无 霜 期 不 超 过 一 百 八 十 天 的 北 国 山 村 ， 在 解 放 前 亩 产 不 足 百 斤 的 沟 梁 薄 地 ， 在 曾 经 是 \" 土 如 珍 珠 水 如 油 \" 的 赤 贫 山 坳 ， 要 想 实 现 这 样 的 高 产 ， 需 要 付 出 多 大 心 血 ， 流 淌 多 少 汗 珠 ， 战 胜 多 少 恶 风 ， 顶 往 多 少 逆 流 啊 Bv Iv Bv Iv Bu Bw Bns Ins Bw Bu Bm Bn Bw Br Bv Iv Bd Id Ba Ia Ba Ia Bw Bp Bmq Imq Bv Bnt Int Bd Bv Iv Bm Im Im Im Bnt Bu Bnl Inl Bn In Bw Bp Bnt Int Int Bv Iv Ba Ia Bm Bq Bu Bn Bn Bn In Bw Bp Bd Id Bvl Bw Bn Bv Bn In Bn Bv Bn Bw Bu Ba Ia Bn In Bw Bvu Bv Bv Iv Br Ir Bu Bn In Bw Bv Iv Bv Iv Bd Ba Bn In Bw Bv Iv Br Ir Bn In Bw Bv Iv Br Ir Ba Bn Bw Bv Bp Br Ir Bn In Be\n",
      "该 法 的 显 著 特 点 是 对 海 水 无 污 染 Bn In Bu Ba Ia Bn In Bvl Bp Bn In Bv Bv Iv\n"
     ]
    }
   ],
   "source": [
    "for i in range(2):\n",
    "    print(' '.join(zhyw_data[0][i]), ' '.join(zhyw_data[1][i]))\n",
    "    print(' '.join(zhyw_data[0][-i-1]), ' '.join(zhyw_data[1][-i-1]))"
   ]
  },
  {
   "cell_type": "code",
   "execution_count": 28,
   "metadata": {},
   "outputs": [
    {
     "name": "stdout",
     "output_type": "stream",
     "text": [
      "616700\n"
     ]
    }
   ],
   "source": [
    "print(len(zhyw_data[0]))"
   ]
  },
  {
   "cell_type": "code",
   "execution_count": 29,
   "metadata": {},
   "outputs": [],
   "source": [
    "data_sets = [\n",
    "    cnc_data,\n",
    "    # zhyw_data,\n",
    "]"
   ]
  },
  {
   "cell_type": "code",
   "execution_count": 30,
   "metadata": {},
   "outputs": [
    {
     "data": {
      "text/plain": [
       "232878"
      ]
     },
     "execution_count": 30,
     "metadata": {},
     "output_type": "execute_result"
    }
   ],
   "source": [
    "len(data_sets[0][0])"
   ]
  },
  {
   "cell_type": "code",
   "execution_count": 34,
   "metadata": {},
   "outputs": [
    {
     "name": "stderr",
     "output_type": "stream",
     "text": [
      "232878it [00:00, 285266.52it/s]\n"
     ]
    }
   ],
   "source": [
    "from collections import Counter\n",
    "\n",
    "xy = {}\n",
    "for d in data_sets:\n",
    "    x, y = d\n",
    "    for xx, yy in tqdm(zip(x, y)):\n",
    "        if len(xx) <= 0:\n",
    "            continue\n",
    "        xx = tuple(xx)\n",
    "        if xx not in xy:\n",
    "            xy[xx] = yy\n",
    "        else:\n",
    "            b_old = Counter(xy[xx])['B']\n",
    "            b_new = Counter(yy)['B']\n",
    "            if b_old <= b_new:\n",
    "                pass\n",
    "            else:\n",
    "                xy[xx] = yy"
   ]
  },
  {
   "cell_type": "code",
   "execution_count": 35,
   "metadata": {},
   "outputs": [
    {
     "name": "stdout",
     "output_type": "stream",
     "text": [
      "232857\n"
     ]
    }
   ],
   "source": [
    "print(len(xy))"
   ]
  },
  {
   "cell_type": "code",
   "execution_count": 36,
   "metadata": {},
   "outputs": [],
   "source": [
    "X, Y = [], []\n",
    "for xx, yy in xy.items():\n",
    "    X.append(xx)\n",
    "    Y.append(yy)"
   ]
  },
  {
   "cell_type": "code",
   "execution_count": 37,
   "metadata": {},
   "outputs": [
    {
     "name": "stdout",
     "output_type": "stream",
     "text": [
      "232857 232857\n"
     ]
    }
   ],
   "source": [
    "print(len(X), len(Y))"
   ]
  },
  {
   "cell_type": "code",
   "execution_count": 38,
   "metadata": {},
   "outputs": [
    {
     "name": "stdout",
     "output_type": "stream",
     "text": [
      "9844449\n"
     ]
    }
   ],
   "source": [
    "print(\n",
    "    sum([len(x) for x in X])\n",
    ")"
   ]
  },
  {
   "cell_type": "code",
   "execution_count": 39,
   "metadata": {},
   "outputs": [
    {
     "name": "stdout",
     "output_type": "stream",
     "text": [
      "9844449\n"
     ]
    }
   ],
   "source": [
    "print(\n",
    "    sum([len(x) for x in Y])\n",
    ")"
   ]
  },
  {
   "cell_type": "code",
   "execution_count": 40,
   "metadata": {},
   "outputs": [
    {
     "name": "stderr",
     "output_type": "stream",
     "text": [
      "232857it [00:00, 1348390.63it/s]\n"
     ]
    }
   ],
   "source": [
    "for x, y in tqdm(zip(X, Y)):\n",
    "    assert len(x) == len(y)"
   ]
  },
  {
   "cell_type": "code",
   "execution_count": 41,
   "metadata": {},
   "outputs": [],
   "source": [
    "import pickle"
   ]
  },
  {
   "cell_type": "code",
   "execution_count": 42,
   "metadata": {},
   "outputs": [],
   "source": [
    "with open('xpos.pkl', 'wb') as fp:\n",
    "    pickle.dump(X, fp)\n",
    "with open('ypos.pkl', 'wb') as fp:\n",
    "    pickle.dump(Y, fp)"
   ]
  },
  {
   "cell_type": "code",
   "execution_count": 43,
   "metadata": {},
   "outputs": [
    {
     "name": "stdout",
     "output_type": "stream",
     "text": [
      "123M\txpos.pkl\n",
      "116M\typos.pkl\n"
     ]
    }
   ],
   "source": [
    "!du -sh 'xpos.pkl'\n",
    "!du -sh 'ypos.pkl'"
   ]
  },
  {
   "cell_type": "code",
   "execution_count": null,
   "metadata": {},
   "outputs": [],
   "source": []
  }
 ],
 "metadata": {
  "kernelspec": {
   "display_name": "Python 3",
   "language": "python",
   "name": "python3"
  },
  "language_info": {
   "codemirror_mode": {
    "name": "ipython",
    "version": 3
   },
   "file_extension": ".py",
   "mimetype": "text/x-python",
   "name": "python",
   "nbconvert_exporter": "python",
   "pygments_lexer": "ipython3",
   "version": "3.6.9"
  }
 },
 "nbformat": 4,
 "nbformat_minor": 2
}
