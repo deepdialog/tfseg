{
 "cells": [
  {
   "cell_type": "code",
   "execution_count": 1,
   "metadata": {},
   "outputs": [],
   "source": [
    "import os\n",
    "import re\n",
    "from collections import Counter\n",
    "from tqdm import tqdm"
   ]
  },
  {
   "cell_type": "code",
   "execution_count": 2,
   "metadata": {},
   "outputs": [],
   "source": [
    "def compose1(paths):\n",
    "    if isinstance(paths, str):\n",
    "        paths = [paths]\n",
    "    def to_bi(line):\n",
    "        segs = re.findall(r'([^/]+)/[a-zA-Z]+\\s+', line)\n",
    "        x = []\n",
    "        y = []\n",
    "        for seg in segs:\n",
    "            seg = list(seg)\n",
    "            tag = ['I'] * len(seg)\n",
    "            tag[0] = 'B'\n",
    "\n",
    "            # if len(tag) == 1:\n",
    "            #     tag[0] = 'S'\n",
    "            # elif len(tag) == 2:\n",
    "            #     tag[1] = 'E'\n",
    "            # elif len(tag) >= 3:\n",
    "            #     tag[-1] = 'E'\n",
    "\n",
    "            x += seg\n",
    "            y += tag\n",
    "        return x, y\n",
    "    X, Y = [], []\n",
    "    for path in paths:\n",
    "        data = open(path).read()\n",
    "        lines = data.split('\\n')\n",
    "        for line in tqdm(lines):\n",
    "            x, y = to_bi(line)\n",
    "            X.append(x)\n",
    "            Y.append(y)\n",
    "    print(len(X), len(Y))\n",
    "    return X, Y"
   ]
  },
  {
   "cell_type": "code",
   "execution_count": 3,
   "metadata": {},
   "outputs": [],
   "source": [
    "def compose2(paths):\n",
    "    if isinstance(paths, str):\n",
    "        paths = [paths]\n",
    "    def to_bi(line):\n",
    "        segs = re.split(r'\\s+', line)\n",
    "        x = []\n",
    "        y = []\n",
    "        for seg in segs:\n",
    "            if seg:\n",
    "                seg = list(seg)\n",
    "                tag = ['I'] * len(seg)\n",
    "                tag[0] = 'B'\n",
    "\n",
    "#                 if len(tag) == 1:\n",
    "#                     tag[0] = 'S'\n",
    "#                 elif len(tag) == 2:\n",
    "#                     tag[1] = 'E'\n",
    "#                 elif len(tag) >= 3:\n",
    "#                     tag[-1] = 'E'\n",
    "\n",
    "                x += seg\n",
    "                y += tag\n",
    "        return x, y\n",
    "    X, Y = [], []\n",
    "    for path in paths:\n",
    "        data = open(path).read()\n",
    "        lines = data.split('\\n')\n",
    "        for line in tqdm(lines):\n",
    "            x, y = to_bi(line)\n",
    "            X.append(x)\n",
    "            Y.append(y)\n",
    "    print(len(X), len(Y))\n",
    "    return X, Y"
   ]
  },
  {
   "cell_type": "code",
   "execution_count": 4,
   "metadata": {},
   "outputs": [],
   "source": [
    "def compose3(paths):\n",
    "    if isinstance(paths, str):\n",
    "        paths = [paths]\n",
    "    def to_bi(line):\n",
    "        segs = re.split(r'\\s+', line)\n",
    "        x = []\n",
    "        y = []\n",
    "        for seg in segs:\n",
    "            if seg:\n",
    "                seg = list(seg)\n",
    "                tag = ['I'] * len(seg)\n",
    "                tag[0] = 'B'\n",
    "\n",
    "#                 if len(tag) == 1:\n",
    "#                     tag[0] = 'S'\n",
    "#                 elif len(tag) == 2:\n",
    "#                     tag[1] = 'E'\n",
    "#                 elif len(tag) >= 3:\n",
    "#                     tag[-1] = 'E'\n",
    "\n",
    "                x += seg\n",
    "                y += tag\n",
    "        return x, y\n",
    "    X, Y = [], []\n",
    "    for path in paths:\n",
    "        data = open(path).read()\n",
    "        lines = data.split('\\n\\n')\n",
    "        for line in tqdm(lines):\n",
    "            line = [x.split('\\t')[1] for x in line.split('\\n') if '\\t' in x]\n",
    "            line = ' '.join(line)\n",
    "            if line:\n",
    "                x, y = to_bi(line)\n",
    "                X.append(x)\n",
    "                Y.append(y)\n",
    "    print(len(X), len(Y))\n",
    "    return X, Y"
   ]
  },
  {
   "cell_type": "code",
   "execution_count": 5,
   "metadata": {},
   "outputs": [],
   "source": [
    "def compose4(paths):\n",
    "    if isinstance(paths, str):\n",
    "        paths = [paths]\n",
    "    def to_bi(line):\n",
    "        segs = re.findall(r'([^/_]+)_[a-zA-Z]+\\s+', line)\n",
    "        x = []\n",
    "        y = []\n",
    "        for seg in segs:\n",
    "            seg = list(seg)\n",
    "            tag = ['I'] * len(seg)\n",
    "            tag[0] = 'B'\n",
    "\n",
    "#             if len(tag) == 1:\n",
    "#                 tag[0] = 'S'\n",
    "#             elif len(tag) == 2:\n",
    "#                 tag[1] = 'E'\n",
    "#             elif len(tag) >= 3:\n",
    "#                 tag[-1] = 'E'\n",
    "\n",
    "            x += seg\n",
    "            y += tag\n",
    "        return x, y\n",
    "    X, Y = [], []\n",
    "    for path in paths:\n",
    "        data = open(path).read()\n",
    "        lines = data.split('\\n')\n",
    "        for line in tqdm(lines):\n",
    "            x, y = to_bi(line)\n",
    "            X.append(x)\n",
    "            Y.append(y)\n",
    "    print(len(X), len(Y))\n",
    "    return X, Y"
   ]
  },
  {
   "cell_type": "code",
   "execution_count": 6,
   "metadata": {},
   "outputs": [
    {
     "name": "stdout",
     "output_type": "stream",
     "text": [
      "dev.txt  test.txt  train.txt\r\n"
     ]
    }
   ],
   "source": [
    "!ls '../multi-criteria-cws/data/other/cnc/'"
   ]
  },
  {
   "cell_type": "code",
   "execution_count": 7,
   "metadata": {},
   "outputs": [
    {
     "name": "stderr",
     "output_type": "stream",
     "text": [
      "100%|██████████| 207002/207002 [00:04<00:00, 43899.93it/s]\n",
      "100%|██████████| 25876/25876 [00:00<00:00, 33378.53it/s]"
     ]
    },
    {
     "name": "stdout",
     "output_type": "stream",
     "text": [
      "232878 232878\n"
     ]
    },
    {
     "name": "stderr",
     "output_type": "stream",
     "text": [
      "\n"
     ]
    }
   ],
   "source": [
    "cnc_data = compose1([\n",
    "    '../multi-criteria-cws/data/other/cnc/train.txt',\n",
    "    '../multi-criteria-cws/data/other/cnc/dev.txt',\n",
    "    # '../multi-criteria-cws/data/other/cnc/test.txt'\n",
    "])"
   ]
  },
  {
   "cell_type": "code",
   "execution_count": 8,
   "metadata": {},
   "outputs": [
    {
     "name": "stdout",
     "output_type": "stream",
     "text": [
      "ctb6.dev.seg  ctb6.test.seg  ctb6.train.seg\r\n"
     ]
    }
   ],
   "source": [
    "!ls '../multi-criteria-cws/data/other/ctb/'"
   ]
  },
  {
   "cell_type": "code",
   "execution_count": 9,
   "metadata": {
    "scrolled": true
   },
   "outputs": [
    {
     "name": "stderr",
     "output_type": "stream",
     "text": [
      "100%|██████████| 24417/24417 [00:00<00:00, 46550.44it/s]\n",
      "100%|██████████| 1905/1905 [00:00<00:00, 54196.96it/s]"
     ]
    },
    {
     "name": "stdout",
     "output_type": "stream",
     "text": [
      "26322 26322\n"
     ]
    },
    {
     "name": "stderr",
     "output_type": "stream",
     "text": [
      "\n"
     ]
    }
   ],
   "source": [
    "ctb_data = compose2([\n",
    "    '../multi-criteria-cws/data/other/ctb/ctb6.train.seg',\n",
    "    '../multi-criteria-cws/data/other/ctb/ctb6.dev.seg',\n",
    "    # '../multi-criteria-cws/data/other/ctb/ctb6.test.seg'\n",
    "])"
   ]
  },
  {
   "cell_type": "code",
   "execution_count": 10,
   "metadata": {},
   "outputs": [
    {
     "name": "stdout",
     "output_type": "stream",
     "text": [
      "test.txt  train.txt\r\n"
     ]
    }
   ],
   "source": [
    "!ls '../multi-criteria-cws/data/other/sxu/'"
   ]
  },
  {
   "cell_type": "code",
   "execution_count": 11,
   "metadata": {},
   "outputs": [
    {
     "name": "stderr",
     "output_type": "stream",
     "text": [
      "100%|██████████| 17116/17116 [00:00<00:00, 42372.56it/s]"
     ]
    },
    {
     "name": "stdout",
     "output_type": "stream",
     "text": [
      "17116 17116\n"
     ]
    },
    {
     "name": "stderr",
     "output_type": "stream",
     "text": [
      "\n"
     ]
    }
   ],
   "source": [
    "sxu_data = compose2([\n",
    "    '../multi-criteria-cws/data/other/sxu/train.txt',\n",
    "    # '../multi-criteria-cws/data/other/sxu/test.txt'\n",
    "])"
   ]
  },
  {
   "cell_type": "code",
   "execution_count": 12,
   "metadata": {},
   "outputs": [
    {
     "name": "stdout",
     "output_type": "stream",
     "text": [
      "dev.conll  test.conll  train.conll\r\n"
     ]
    }
   ],
   "source": [
    "!ls '../multi-criteria-cws/data/other/udc/'"
   ]
  },
  {
   "cell_type": "code",
   "execution_count": 13,
   "metadata": {},
   "outputs": [
    {
     "name": "stderr",
     "output_type": "stream",
     "text": [
      "100%|██████████| 3998/3998 [00:00<00:00, 32814.30it/s]\n",
      "100%|██████████| 501/501 [00:00<00:00, 34442.09it/s]"
     ]
    },
    {
     "name": "stdout",
     "output_type": "stream",
     "text": [
      "4497 4497\n"
     ]
    },
    {
     "name": "stderr",
     "output_type": "stream",
     "text": [
      "\n"
     ]
    }
   ],
   "source": [
    "udc_data = compose3([\n",
    "    '../multi-criteria-cws/data/other/udc/train.conll',\n",
    "    '../multi-criteria-cws/data/other/udc/dev.conll',\n",
    "    # '../multi-criteria-cws/data/other/udc/test.conll'\n",
    "])"
   ]
  },
  {
   "cell_type": "code",
   "execution_count": 14,
   "metadata": {},
   "outputs": [
    {
     "name": "stdout",
     "output_type": "stream",
     "text": [
      "dev.conll  README.txt  test.conll  train.conll\r\n"
     ]
    }
   ],
   "source": [
    "!ls '../multi-criteria-cws/data/other/wtb/'"
   ]
  },
  {
   "cell_type": "code",
   "execution_count": 15,
   "metadata": {},
   "outputs": [
    {
     "name": "stderr",
     "output_type": "stream",
     "text": [
      "100%|██████████| 814/814 [00:00<00:00, 35901.53it/s]\n",
      "100%|██████████| 96/96 [00:00<00:00, 40974.17it/s]"
     ]
    },
    {
     "name": "stdout",
     "output_type": "stream",
     "text": [
      "908 908\n"
     ]
    },
    {
     "name": "stderr",
     "output_type": "stream",
     "text": [
      "\n"
     ]
    }
   ],
   "source": [
    "wtb_data = compose3([\n",
    "    '../multi-criteria-cws/data/other/wtb/train.conll',\n",
    "    '../multi-criteria-cws/data/other/wtb/dev.conll',\n",
    "    # '../multi-criteria-cws/data/other/wtb/test.conll'\n",
    "])"
   ]
  },
  {
   "cell_type": "code",
   "execution_count": 16,
   "metadata": {},
   "outputs": [
    {
     "name": "stdout",
     "output_type": "stream",
     "text": [
      "dev.zhuxian.wordpos  test.zhuxian.wordpos  train.zhuxian.wordpos\r\n"
     ]
    }
   ],
   "source": [
    "!ls '../multi-criteria-cws/data/other/zx/'"
   ]
  },
  {
   "cell_type": "code",
   "execution_count": 17,
   "metadata": {},
   "outputs": [
    {
     "name": "stderr",
     "output_type": "stream",
     "text": [
      "100%|██████████| 2374/2374 [00:00<00:00, 43368.31it/s]\n",
      "100%|██████████| 789/789 [00:00<00:00, 57174.30it/s]"
     ]
    },
    {
     "name": "stdout",
     "output_type": "stream",
     "text": [
      "3163 3163\n"
     ]
    },
    {
     "name": "stderr",
     "output_type": "stream",
     "text": [
      "\n"
     ]
    }
   ],
   "source": [
    "zx_data = compose4([\n",
    "    '../multi-criteria-cws/data/other/zx/train.zhuxian.wordpos',\n",
    "    '../multi-criteria-cws/data/other/zx/dev.zhuxian.wordpos',\n",
    "    # '../multi-criteria-cws/data/other/zx/test.zhuxian.wordpos'\n",
    "])"
   ]
  },
  {
   "cell_type": "code",
   "execution_count": 18,
   "metadata": {},
   "outputs": [
    {
     "name": "stdout",
     "output_type": "stream",
     "text": [
      "as_test_gold.utf8  cityu_test_gold.utf8  msr_test_gold.utf8  pku_test_gold.utf8\r\n",
      "as_training.utf8   cityu_training.utf8\t msr_training.utf8   pku_training.utf8\r\n"
     ]
    }
   ],
   "source": [
    "!ls '../multi-criteria-cws/data/sighan2005/'"
   ]
  },
  {
   "cell_type": "code",
   "execution_count": 19,
   "metadata": {},
   "outputs": [
    {
     "name": "stderr",
     "output_type": "stream",
     "text": [
      "100%|██████████| 708954/708954 [00:08<00:00, 88074.38it/s] "
     ]
    },
    {
     "name": "stdout",
     "output_type": "stream",
     "text": [
      "708954 708954\n"
     ]
    },
    {
     "name": "stderr",
     "output_type": "stream",
     "text": [
      "\n"
     ]
    }
   ],
   "source": [
    "as_data = compose2([\n",
    "    '../multi-criteria-cws/data/sighan2005/as_training.utf8',\n",
    "    # '../multi-criteria-cws/data/sighan2005/as_test_gold.utf8'\n",
    "])"
   ]
  },
  {
   "cell_type": "code",
   "execution_count": 20,
   "metadata": {},
   "outputs": [
    {
     "name": "stdout",
     "output_type": "stream",
     "text": [
      "as_test_gold.utf8  cityu_test_gold.utf8  msr_test_gold.utf8  pku_test_gold.utf8\r\n",
      "as_training.utf8   cityu_training.utf8\t msr_training.utf8   pku_training.utf8\r\n"
     ]
    }
   ],
   "source": [
    "!ls '../multi-criteria-cws/data/sighan2005/'"
   ]
  },
  {
   "cell_type": "code",
   "execution_count": 21,
   "metadata": {},
   "outputs": [
    {
     "name": "stderr",
     "output_type": "stream",
     "text": [
      "100%|██████████| 53020/53020 [00:01<00:00, 46528.82it/s]"
     ]
    },
    {
     "name": "stdout",
     "output_type": "stream",
     "text": [
      "53020 53020\n"
     ]
    },
    {
     "name": "stderr",
     "output_type": "stream",
     "text": [
      "\n"
     ]
    }
   ],
   "source": [
    "cityu_data = compose2([\n",
    "    '../multi-criteria-cws/data/sighan2005/cityu_training.utf8',\n",
    "    # '../multi-criteria-cws/data/sighan2005/cityu_test_gold.utf8'\n",
    "])"
   ]
  },
  {
   "cell_type": "code",
   "execution_count": 22,
   "metadata": {},
   "outputs": [
    {
     "name": "stdout",
     "output_type": "stream",
     "text": [
      "as_test_gold.utf8  cityu_test_gold.utf8  msr_test_gold.utf8  pku_test_gold.utf8\r\n",
      "as_training.utf8   cityu_training.utf8\t msr_training.utf8   pku_training.utf8\r\n"
     ]
    }
   ],
   "source": [
    "!ls '../multi-criteria-cws/data/sighan2005/'"
   ]
  },
  {
   "cell_type": "code",
   "execution_count": 23,
   "metadata": {},
   "outputs": [
    {
     "name": "stderr",
     "output_type": "stream",
     "text": [
      "100%|██████████| 86925/86925 [00:01<00:00, 46669.34it/s]"
     ]
    },
    {
     "name": "stdout",
     "output_type": "stream",
     "text": [
      "86925 86925\n"
     ]
    },
    {
     "name": "stderr",
     "output_type": "stream",
     "text": [
      "\n"
     ]
    }
   ],
   "source": [
    "msr_data = compose2([\n",
    "    '../multi-criteria-cws/data/sighan2005/msr_training.utf8',\n",
    "    # '../multi-criteria-cws/data/sighan2005/msr_test_gold.utf8'\n",
    "])"
   ]
  },
  {
   "cell_type": "code",
   "execution_count": 24,
   "metadata": {},
   "outputs": [
    {
     "name": "stdout",
     "output_type": "stream",
     "text": [
      "as_test_gold.utf8  cityu_test_gold.utf8  msr_test_gold.utf8  pku_test_gold.utf8\r\n",
      "as_training.utf8   cityu_training.utf8\t msr_training.utf8   pku_training.utf8\r\n"
     ]
    }
   ],
   "source": [
    "!ls '../multi-criteria-cws/data/sighan2005/'"
   ]
  },
  {
   "cell_type": "code",
   "execution_count": 25,
   "metadata": {},
   "outputs": [
    {
     "name": "stderr",
     "output_type": "stream",
     "text": [
      "100%|██████████| 19057/19057 [00:00<00:00, 22718.62it/s]"
     ]
    },
    {
     "name": "stdout",
     "output_type": "stream",
     "text": [
      "19057 19057\n"
     ]
    },
    {
     "name": "stderr",
     "output_type": "stream",
     "text": [
      "\n"
     ]
    }
   ],
   "source": [
    "pku_data = compose2([\n",
    "    '../multi-criteria-cws/data/sighan2005/pku_training.utf8',\n",
    "    # '../multi-criteria-cws/data/sighan2005/pku_test_gold.utf8'\n",
    "])"
   ]
  },
  {
   "cell_type": "code",
   "execution_count": 26,
   "metadata": {},
   "outputs": [],
   "source": [
    "zhyw = '../chn_segment_data/out.txt'"
   ]
  },
  {
   "cell_type": "code",
   "execution_count": 27,
   "metadata": {},
   "outputs": [
    {
     "name": "stderr",
     "output_type": "stream",
     "text": [
      "100%|██████████| 616700/616700 [00:14<00:00, 42970.07it/s]"
     ]
    },
    {
     "name": "stdout",
     "output_type": "stream",
     "text": [
      "616700 616700\n"
     ]
    },
    {
     "name": "stderr",
     "output_type": "stream",
     "text": [
      "\n"
     ]
    }
   ],
   "source": [
    "zhyw_data = compose1(zhyw)"
   ]
  },
  {
   "cell_type": "code",
   "execution_count": 28,
   "metadata": {},
   "outputs": [
    {
     "name": "stdout",
     "output_type": "stream",
     "text": [
      "dev.txt  README.md  test.txt  train.txt\r\n"
     ]
    }
   ],
   "source": [
    "!ls '../OpenCorpus/ctb8.0/pos/'"
   ]
  },
  {
   "cell_type": "code",
   "execution_count": 29,
   "metadata": {},
   "outputs": [
    {
     "name": "stderr",
     "output_type": "stream",
     "text": [
      "100%|██████████| 55680/55680 [00:00<00:00, 57327.48it/s]\n",
      "100%|██████████| 7775/7775 [00:00<00:00, 60790.41it/s]"
     ]
    },
    {
     "name": "stdout",
     "output_type": "stream",
     "text": [
      "63455 63455\n"
     ]
    },
    {
     "name": "stderr",
     "output_type": "stream",
     "text": [
      "\n"
     ]
    }
   ],
   "source": [
    "ctb8_data = compose1([\n",
    "    '../OpenCorpus/ctb8.0/pos/train.txt',\n",
    "    '../OpenCorpus/ctb8.0/pos/test.txt',\n",
    "    # '../OpenCorpus/ctb8.0/pos/dev.txt'\n",
    "])"
   ]
  },
  {
   "cell_type": "code",
   "execution_count": 30,
   "metadata": {},
   "outputs": [],
   "source": [
    "data_sets = [\n",
    "    cnc_data,\n",
    "    ctb_data,\n",
    "    sxu_data,\n",
    "    udc_data,\n",
    "    wtb_data,\n",
    "    zx_data,\n",
    "    as_data,\n",
    "    cityu_data,\n",
    "    msr_data,\n",
    "    pku_data,\n",
    "    zhyw_data,\n",
    "    ctb8_data\n",
    "]"
   ]
  },
  {
   "cell_type": "code",
   "execution_count": 31,
   "metadata": {},
   "outputs": [
    {
     "name": "stderr",
     "output_type": "stream",
     "text": [
      "232878it [00:00, 268750.81it/s]\n",
      "26322it [00:00, 211621.42it/s]\n",
      "17116it [00:00, 203476.34it/s]\n",
      "4497it [00:00, 252146.05it/s]\n",
      "908it [00:00, 296768.33it/s]\n",
      "3163it [00:00, 249418.75it/s]\n",
      "708954it [00:01, 439042.57it/s]\n",
      "53020it [00:00, 241070.51it/s]\n",
      "86925it [00:00, 238438.19it/s]\n",
      "19057it [00:00, 123895.95it/s]\n",
      "616700it [00:04, 135197.69it/s]\n",
      "63455it [00:00, 162700.61it/s]\n"
     ]
    }
   ],
   "source": [
    "xy = {}\n",
    "for d in data_sets:\n",
    "    x, y = d\n",
    "    for xx, yy in tqdm(zip(x, y)):\n",
    "        if len(xx) <= 0:\n",
    "            continue\n",
    "        xx = tuple(xx)\n",
    "        if xx not in xy:\n",
    "            xy[xx] = yy\n",
    "        else:\n",
    "            b_old = Counter(xy[xx])['B']\n",
    "            b_new = Counter(yy)['B']\n",
    "            if b_old <= b_new:\n",
    "                pass\n",
    "            else:\n",
    "                xy[xx] = yy"
   ]
  },
  {
   "cell_type": "code",
   "execution_count": 32,
   "metadata": {},
   "outputs": [
    {
     "name": "stdout",
     "output_type": "stream",
     "text": [
      "1513223\n"
     ]
    }
   ],
   "source": [
    "print(len(xy))"
   ]
  },
  {
   "cell_type": "code",
   "execution_count": 33,
   "metadata": {},
   "outputs": [],
   "source": [
    "X, Y = [], []\n",
    "for xx, yy in xy.items():\n",
    "    X.append(xx)\n",
    "    Y.append(yy)"
   ]
  },
  {
   "cell_type": "code",
   "execution_count": 34,
   "metadata": {},
   "outputs": [
    {
     "name": "stdout",
     "output_type": "stream",
     "text": [
      "42740494\n"
     ]
    }
   ],
   "source": [
    "print(\n",
    "    sum([len(x) for x in X])\n",
    ")"
   ]
  },
  {
   "cell_type": "code",
   "execution_count": 35,
   "metadata": {},
   "outputs": [
    {
     "name": "stdout",
     "output_type": "stream",
     "text": [
      "42740494\n"
     ]
    }
   ],
   "source": [
    "print(\n",
    "    sum([len(x) for x in Y])\n",
    ")"
   ]
  },
  {
   "cell_type": "code",
   "execution_count": 36,
   "metadata": {},
   "outputs": [
    {
     "name": "stderr",
     "output_type": "stream",
     "text": [
      "1513223it [00:00, 2320490.44it/s]\n"
     ]
    }
   ],
   "source": [
    "for x, y in tqdm(zip(X, Y)):\n",
    "    assert len(x) == len(y)"
   ]
  },
  {
   "cell_type": "code",
   "execution_count": 37,
   "metadata": {},
   "outputs": [],
   "source": [
    "import pickle"
   ]
  },
  {
   "cell_type": "code",
   "execution_count": 38,
   "metadata": {},
   "outputs": [],
   "source": [
    "with open('x.pkl', 'wb') as fp:\n",
    "    pickle.dump(X, fp)\n",
    "with open('y.pkl', 'wb') as fp:\n",
    "    pickle.dump(Y, fp)"
   ]
  },
  {
   "cell_type": "code",
   "execution_count": 39,
   "metadata": {},
   "outputs": [
    {
     "name": "stdout",
     "output_type": "stream",
     "text": [
      "535M\tx.pkl\n",
      "94M\ty.pkl\n"
     ]
    }
   ],
   "source": [
    "!du -sh x.pkl\n",
    "!du -sh y.pkl"
   ]
  },
  {
   "cell_type": "code",
   "execution_count": null,
   "metadata": {},
   "outputs": [],
   "source": []
  }
 ],
 "metadata": {
  "kernelspec": {
   "display_name": "Python 3",
   "language": "python",
   "name": "python3"
  },
  "language_info": {
   "codemirror_mode": {
    "name": "ipython",
    "version": 3
   },
   "file_extension": ".py",
   "mimetype": "text/x-python",
   "name": "python",
   "nbconvert_exporter": "python",
   "pygments_lexer": "ipython3",
   "version": "3.6.9"
  }
 },
 "nbformat": 4,
 "nbformat_minor": 2
}
