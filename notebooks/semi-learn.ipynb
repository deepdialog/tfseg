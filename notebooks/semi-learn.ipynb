{
 "cells": [
  {
   "cell_type": "code",
   "execution_count": 1,
   "metadata": {},
   "outputs": [],
   "source": [
    "import os\n",
    "os.environ['CUDA_VISIBLE_DEVICES'] = ''\n",
    "import pickle\n",
    "from tqdm import tqdm\n",
    "import tensorflow as tf"
   ]
  },
  {
   "cell_type": "code",
   "execution_count": 2,
   "metadata": {},
   "outputs": [],
   "source": [
    "with open('./x.pkl', 'rb') as fp:\n",
    "    x = pickle.load(fp)\n",
    "with open('./y.pkl', 'rb') as fp:\n",
    "    y = pickle.load(fp)\n",
    "with open('./xpos.pkl', 'rb') as fp:\n",
    "    xpos = pickle.load(fp)\n",
    "with open('./ypos.pkl', 'rb') as fp:\n",
    "    ypos = pickle.load(fp)"
   ]
  },
  {
   "cell_type": "code",
   "execution_count": 3,
   "metadata": {},
   "outputs": [],
   "source": [
    "pos_index = {}\n",
    "for xx, yy in zip(xpos, ypos):\n",
    "    xx = tuple(xx)\n",
    "    pos_index[xx] = yy"
   ]
  },
  {
   "cell_type": "code",
   "execution_count": 4,
   "metadata": {},
   "outputs": [
    {
     "name": "stdout",
     "output_type": "stream",
     "text": [
      "232857\n"
     ]
    }
   ],
   "source": [
    "print(len(pos_index))"
   ]
  },
  {
   "cell_type": "code",
   "execution_count": 5,
   "metadata": {},
   "outputs": [
    {
     "data": {
      "text/plain": [
       "1513223"
      ]
     },
     "execution_count": 5,
     "metadata": {},
     "output_type": "execute_result"
    }
   ],
   "source": [
    "len(x)"
   ]
  },
  {
   "cell_type": "code",
   "execution_count": 6,
   "metadata": {},
   "outputs": [
    {
     "name": "stderr",
     "output_type": "stream",
     "text": [
      "1513223it [00:02, 719138.43it/s]\n"
     ]
    }
   ],
   "source": [
    "xbad, ybad = [], []\n",
    "for xx, yy in tqdm(zip(x, y)):\n",
    "    xx = tuple(xx)\n",
    "    if xx not in pos_index:\n",
    "        xbad.append(xx)\n",
    "        ybad.append(yy)"
   ]
  },
  {
   "cell_type": "code",
   "execution_count": 7,
   "metadata": {},
   "outputs": [
    {
     "name": "stdout",
     "output_type": "stream",
     "text": [
      "1280366\n"
     ]
    }
   ],
   "source": [
    "print(len(xbad))"
   ]
  },
  {
   "cell_type": "code",
   "execution_count": 8,
   "metadata": {},
   "outputs": [],
   "source": [
    "def cut(model, sent: str):\n",
    "    if len(sent) <= 0:\n",
    "        return []\n",
    "    elif len(sent) > 510:\n",
    "        sent = sent[:510]\n",
    "    tokens = ['[CLS]'] + list(sent) + ['[SEP]']\n",
    "    for lens in (32, 64, 128, 256, 512):\n",
    "        if len(tokens) <= lens:\n",
    "            tokens += [''] * (lens - len(tokens))\n",
    "            break\n",
    "\n",
    "    inputs = tf.constant([tokens])\n",
    "    pred = model(inputs)\n",
    "\n",
    "    words = []\n",
    "    poses = []\n",
    "    last_word = ''\n",
    "    last_pos = ''\n",
    "\n",
    "    pred_iter = zip(\n",
    "        sent,\n",
    "        pred.numpy()[0]\n",
    "    )\n",
    "    \n",
    "    for w, x in pred_iter:\n",
    "        x = x.decode('utf-8')\n",
    "        pos = x[1:]\n",
    "        if x[0] == 'B' or x[0] == 'S':\n",
    "            if len(last_word):\n",
    "                words.append(last_word)\n",
    "                poses.append(last_pos)\n",
    "                last_word = ''\n",
    "                last_pos = ''\n",
    "            last_word += w\n",
    "            last_pos = pos\n",
    "        else:\n",
    "            last_word += w\n",
    "\n",
    "    if len(last_word):\n",
    "        words.append(last_word)\n",
    "        poses.append(last_pos)\n",
    "\n",
    "    return words, poses"
   ]
  },
  {
   "cell_type": "code",
   "execution_count": 9,
   "metadata": {},
   "outputs": [
    {
     "name": "stdout",
     "output_type": "stream",
     "text": [
      "WARNING:tensorflow:5 out of the last 5 calls to <function recreate_function.<locals>.restored_function_body at 0x7f6df4ed3d08> triggered tf.function retracing. Tracing is expensive and the excessive number of tracings could be due to (1) creating @tf.function repeatedly in a loop, (2) passing tensors with different shapes, (3) passing Python objects instead of tensors. For (1), please define your @tf.function outside of the loop. For (2), @tf.function has experimental_relax_shapes=True option that relaxes argument shapes that can avoid unnecessary retracing. For (3), please refer to https://www.tensorflow.org/tutorials/customization/performance#python_or_tensor_args and https://www.tensorflow.org/api_docs/python/tf/function for  more details.\n",
      "WARNING:tensorflow:6 out of the last 6 calls to <function recreate_function.<locals>.restored_function_body at 0x7f6df4f351e0> triggered tf.function retracing. Tracing is expensive and the excessive number of tracings could be due to (1) creating @tf.function repeatedly in a loop, (2) passing tensors with different shapes, (3) passing Python objects instead of tensors. For (1), please define your @tf.function outside of the loop. For (2), @tf.function has experimental_relax_shapes=True option that relaxes argument shapes that can avoid unnecessary retracing. For (3), please refer to https://www.tensorflow.org/tutorials/customization/performance#python_or_tensor_args and https://www.tensorflow.org/api_docs/python/tf/function for  more details.\n"
     ]
    }
   ],
   "source": [
    "model = tf.saved_model.load(\n",
    "    'chn_pos_albert')"
   ]
  },
  {
   "cell_type": "code",
   "execution_count": 10,
   "metadata": {},
   "outputs": [
    {
     "name": "stdout",
     "output_type": "stream",
     "text": [
      "WARNING:tensorflow:7 out of the last 7 calls to <function recreate_function.<locals>.restored_function_body at 0x7f6df4f3a378> triggered tf.function retracing. Tracing is expensive and the excessive number of tracings could be due to (1) creating @tf.function repeatedly in a loop, (2) passing tensors with different shapes, (3) passing Python objects instead of tensors. For (1), please define your @tf.function outside of the loop. For (2), @tf.function has experimental_relax_shapes=True option that relaxes argument shapes that can avoid unnecessary retracing. For (3), please refer to https://www.tensorflow.org/tutorials/customization/performance#python_or_tensor_args and https://www.tensorflow.org/api_docs/python/tf/function for  more details.\n"
     ]
    },
    {
     "data": {
      "text/plain": [
       "(['我', '爱', '你'], ['r', 'v', 'r'])"
      ]
     },
     "execution_count": 10,
     "metadata": {},
     "output_type": "execute_result"
    }
   ],
   "source": [
    "cut(model, '我爱你')"
   ]
  },
  {
   "cell_type": "code",
   "execution_count": 11,
   "metadata": {},
   "outputs": [
    {
     "name": "stderr",
     "output_type": "stream",
     "text": [
      "\r",
      "  0%|          | 0/1280366 [00:00<?, ?it/s]"
     ]
    },
    {
     "name": "stdout",
     "output_type": "stream",
     "text": [
      "WARNING:tensorflow:8 out of the last 11 calls to <function recreate_function.<locals>.restored_function_body at 0x7f6df4f3a378> triggered tf.function retracing. Tracing is expensive and the excessive number of tracings could be due to (1) creating @tf.function repeatedly in a loop, (2) passing tensors with different shapes, (3) passing Python objects instead of tensors. For (1), please define your @tf.function outside of the loop. For (2), @tf.function has experimental_relax_shapes=True option that relaxes argument shapes that can avoid unnecessary retracing. For (3), please refer to https://www.tensorflow.org/tutorials/customization/performance#python_or_tensor_args and https://www.tensorflow.org/api_docs/python/tf/function for  more details.\n"
     ]
    },
    {
     "name": "stderr",
     "output_type": "stream",
     "text": [
      "\r",
      "  0%|          | 4/1280366 [00:00<55:34:08,  6.40it/s]"
     ]
    },
    {
     "name": "stdout",
     "output_type": "stream",
     "text": [
      "WARNING:tensorflow:8 out of the last 11 calls to <function recreate_function.<locals>.restored_function_body at 0x7f6df4f3a378> triggered tf.function retracing. Tracing is expensive and the excessive number of tracings could be due to (1) creating @tf.function repeatedly in a loop, (2) passing tensors with different shapes, (3) passing Python objects instead of tensors. For (1), please define your @tf.function outside of the loop. For (2), @tf.function has experimental_relax_shapes=True option that relaxes argument shapes that can avoid unnecessary retracing. For (3), please refer to https://www.tensorflow.org/tutorials/customization/performance#python_or_tensor_args and https://www.tensorflow.org/api_docs/python/tf/function for  more details.\n"
     ]
    },
    {
     "name": "stderr",
     "output_type": "stream",
     "text": [
      "100%|██████████| 1280366/1280366 [6:13:33<00:00, 57.13it/s]  \n"
     ]
    }
   ],
   "source": [
    "new_xbad = []\n",
    "new_ybad = []\n",
    "for xx, yy in tqdm(zip(xbad, ybad), total=len(xbad)):\n",
    "    xx = xx[:510]\n",
    "    yy = yy[:510]\n",
    "    words, pos = cut(model, ''.join(xx))\n",
    "    cp = []\n",
    "    for w, p in zip(words, pos):\n",
    "        for ww in w:\n",
    "            cp.append((ww, p))\n",
    "    last_pos = None\n",
    "    nyy = []\n",
    "    for xxx, yyy, (_, p) in zip(xx, yy, cp):\n",
    "        if yyy[0] == 'B':\n",
    "            last_pos = p\n",
    "        nyy.append(yyy + last_pos)\n",
    "    assert len(nyy) == len(yy)\n",
    "    new_ybad.append(nyy)"
   ]
  },
  {
   "cell_type": "code",
   "execution_count": 12,
   "metadata": {},
   "outputs": [
    {
     "name": "stdout",
     "output_type": "stream",
     "text": [
      "0 1280366\n"
     ]
    }
   ],
   "source": [
    "print(len(new_xbad), len(new_ybad))"
   ]
  },
  {
   "cell_type": "code",
   "execution_count": 13,
   "metadata": {},
   "outputs": [
    {
     "name": "stderr",
     "output_type": "stream",
     "text": [
      "100%|██████████| 1280366/1280366 [00:00<00:00, 3303718.66it/s]\n"
     ]
    }
   ],
   "source": [
    "new_xbad = [xx[:510] for xx in tqdm(xbad)]"
   ]
  },
  {
   "cell_type": "code",
   "execution_count": 14,
   "metadata": {},
   "outputs": [
    {
     "name": "stdout",
     "output_type": "stream",
     "text": [
      "1280366 1280366\n"
     ]
    }
   ],
   "source": [
    "print(len(new_xbad), len(new_ybad))"
   ]
  },
  {
   "cell_type": "code",
   "execution_count": 15,
   "metadata": {},
   "outputs": [
    {
     "name": "stderr",
     "output_type": "stream",
     "text": [
      "1280366it [00:00, 2137994.39it/s]\n"
     ]
    }
   ],
   "source": [
    "for xx, yy in tqdm(zip(new_xbad, new_ybad)):\n",
    "    assert len(xx) == len(yy)"
   ]
  },
  {
   "cell_type": "code",
   "execution_count": 16,
   "metadata": {},
   "outputs": [],
   "source": [
    "assert len(x) == len(xpos) + len(new_xbad)"
   ]
  },
  {
   "cell_type": "code",
   "execution_count": 17,
   "metadata": {},
   "outputs": [],
   "source": [
    "xpos += new_xbad"
   ]
  },
  {
   "cell_type": "code",
   "execution_count": 18,
   "metadata": {},
   "outputs": [],
   "source": [
    "ypos += new_ybad"
   ]
  },
  {
   "cell_type": "code",
   "execution_count": 19,
   "metadata": {},
   "outputs": [],
   "source": [
    "assert len(x) == len(xpos)"
   ]
  },
  {
   "cell_type": "code",
   "execution_count": 24,
   "metadata": {},
   "outputs": [
    {
     "name": "stdout",
     "output_type": "stream",
     "text": [
      "1513223 1513223\n"
     ]
    }
   ],
   "source": [
    "print(len(xpos), len(ypos))"
   ]
  },
  {
   "cell_type": "code",
   "execution_count": 20,
   "metadata": {},
   "outputs": [],
   "source": [
    "with open('sxpos.pkl', 'wb') as fp:\n",
    "    pickle.dump(xpos, fp)\n",
    "\n",
    "with open('sypos.pkl', 'wb') as fp:\n",
    "    pickle.dump(ypos, fp)"
   ]
  },
  {
   "cell_type": "code",
   "execution_count": 21,
   "metadata": {},
   "outputs": [
    {
     "name": "stdout",
     "output_type": "stream",
     "text": [
      "534M\tsxpos.pkl\n",
      "506M\tsypos.pkl\n"
     ]
    }
   ],
   "source": [
    "!du -sh sxpos.pkl\n",
    "!du -sh sypos.pkl"
   ]
  },
  {
   "cell_type": "code",
   "execution_count": 22,
   "metadata": {},
   "outputs": [
    {
     "name": "stdout",
     "output_type": "stream",
     "text": [
      "535M\tx.pkl\n",
      "94M\ty.pkl\n",
      "123M\txpos.pkl\n",
      "116M\typos.pkl\n"
     ]
    }
   ],
   "source": [
    "!du -sh x.pkl\n",
    "!du -sh y.pkl\n",
    "!du -sh xpos.pkl\n",
    "!du -sh ypos.pkl"
   ]
  },
  {
   "cell_type": "code",
   "execution_count": null,
   "metadata": {},
   "outputs": [],
   "source": []
  }
 ],
 "metadata": {
  "kernelspec": {
   "display_name": "Python 3",
   "language": "python",
   "name": "python3"
  },
  "language_info": {
   "codemirror_mode": {
    "name": "ipython",
    "version": 3
   },
   "file_extension": ".py",
   "mimetype": "text/x-python",
   "name": "python",
   "nbconvert_exporter": "python",
   "pygments_lexer": "ipython3",
   "version": "3.6.9"
  }
 },
 "nbformat": 4,
 "nbformat_minor": 2
}
