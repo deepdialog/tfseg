{
  "nbformat": 4,
  "nbformat_minor": 0,
  "metadata": {
    "colab": {
      "name": "train_chn_segment_pos_semi.ipynb",
      "provenance": [],
      "collapsed_sections": [],
      "machine_shape": "hm"
    },
    "kernelspec": {
      "name": "python3",
      "display_name": "Python 3"
    },
    "accelerator": "GPU"
  },
  "cells": [
    {
      "cell_type": "code",
      "metadata": {
        "id": "PHYK5gGN2yUw"
      },
      "source": [
        "!pip install tfnlu >> /dev/null"
      ],
      "execution_count": null,
      "outputs": []
    },
    {
      "cell_type": "code",
      "metadata": {
        "id": "9Aqy3QeO5zUq",
        "outputId": "70338525-f358-414c-f982-4da634719f48",
        "colab": {
          "base_uri": "https://localhost:8080/",
          "height": 357
        }
      },
      "source": [
        "!nvidia-smi"
      ],
      "execution_count": null,
      "outputs": [
        {
          "output_type": "stream",
          "text": [
            "Mon Oct 12 17:42:03 2020       \n",
            "+-----------------------------------------------------------------------------+\n",
            "| NVIDIA-SMI 455.23.05    Driver Version: 418.67       CUDA Version: 10.1     |\n",
            "|-------------------------------+----------------------+----------------------+\n",
            "| GPU  Name        Persistence-M| Bus-Id        Disp.A | Volatile Uncorr. ECC |\n",
            "| Fan  Temp  Perf  Pwr:Usage/Cap|         Memory-Usage | GPU-Util  Compute M. |\n",
            "|                               |                      |               MIG M. |\n",
            "|===============================+======================+======================|\n",
            "|   0  Tesla V100-SXM2...  Off  | 00000000:00:04.0 Off |                    0 |\n",
            "| N/A   33C    P0    22W / 300W |      0MiB / 16130MiB |      0%      Default |\n",
            "|                               |                      |                 ERR! |\n",
            "+-------------------------------+----------------------+----------------------+\n",
            "                                                                               \n",
            "+-----------------------------------------------------------------------------+\n",
            "| Processes:                                                                  |\n",
            "|  GPU   GI   CI        PID   Type   Process name                  GPU Memory |\n",
            "|        ID   ID                                                   Usage      |\n",
            "|=============================================================================|\n",
            "|  No running processes found                                                 |\n",
            "+-----------------------------------------------------------------------------+\n"
          ],
          "name": "stdout"
        }
      ]
    },
    {
      "cell_type": "code",
      "metadata": {
        "id": "SwLTd-v93Gis",
        "outputId": "027a8e97-2096-4a85-b3b4-8e1a0be4c40b",
        "colab": {
          "base_uri": "https://localhost:8080/",
          "height": 34
        }
      },
      "source": [
        "!ls 'drive/My Drive/chn_seg'"
      ],
      "execution_count": null,
      "outputs": [
        {
          "output_type": "stream",
          "text": [
            "chn_pos_albert\tsxpos.pkl  sypos.pkl  x.pkl  xpos.pkl  y.pkl  ypos.pkl\n"
          ],
          "name": "stdout"
        }
      ]
    },
    {
      "cell_type": "code",
      "metadata": {
        "id": "8DZBCmEv3O3R",
        "outputId": "57c2b90f-59c9-4703-a2d0-bf7b0d673e09",
        "colab": {
          "base_uri": "https://localhost:8080/",
          "height": 119
        }
      },
      "source": [
        "!ls 'drive/My Drive/bert' | grep albert"
      ],
      "execution_count": null,
      "outputs": [
        {
          "output_type": "stream",
          "text": [
            "albert_base\n",
            "albert_large\n",
            "albert_small\n",
            "albert_tiny\n",
            "albert_xlarge\n",
            "albert_xxlarge\n"
          ],
          "name": "stdout"
        }
      ]
    },
    {
      "cell_type": "code",
      "metadata": {
        "id": "zbm3p4kV3nYM",
        "outputId": "3faa2391-163f-4fff-e13e-67b55e0b432b",
        "colab": {
          "base_uri": "https://localhost:8080/",
          "height": 34
        }
      },
      "source": [
        "import pickle\n",
        "import tensorflow as tf\n",
        "from sklearn.model_selection import train_test_split\n",
        "from tfnlu import Tagger, __version__\n",
        "\n",
        "print(__version__)"
      ],
      "execution_count": null,
      "outputs": [
        {
          "output_type": "stream",
          "text": [
            "0.0.31\n"
          ],
          "name": "stdout"
        }
      ]
    },
    {
      "cell_type": "code",
      "metadata": {
        "id": "JLZGz0cR3K_h"
      },
      "source": [
        "def save_model(tag, path):\n",
        "    opt = tag.model.optimizer\n",
        "    opt_enc = tag.model.optimizer_encoder\n",
        "    tag.model.optimizer = tf.keras.optimizers.SGD()\n",
        "    tag.model.optimizer_encoder = tf.keras.optimizers.SGD()\n",
        "    tag.model.save(path, include_optimizer=False)\n",
        "    tag.model.optimizer = opt\n",
        "    tag.model.optimizer_encoder = opt_enc"
      ],
      "execution_count": null,
      "outputs": []
    },
    {
      "cell_type": "code",
      "metadata": {
        "id": "cSuw2SP33Tup",
        "outputId": "2eac9c22-51d3-4476-b502-c270a2867796",
        "colab": {
          "base_uri": "https://localhost:8080/",
          "height": 1000
        }
      },
      "source": [
        "x = pickle.load(open('drive/My Drive/chn_seg/sxpos.pkl', 'rb'))\n",
        "y = pickle.load(open('drive/My Drive/chn_seg/sypos.pkl', 'rb'))\n",
        "x = list(map(list, x))\n",
        "y = list(map(list, y))\n",
        "\n",
        "print(' '.join(x[0]))\n",
        "print(' '.join(y[0]))\n",
        "\n",
        "x_train, x_test, y_train, y_test = train_test_split(\n",
        "    x, y,\n",
        "    test_size=0.05\n",
        ")\n",
        "\n",
        "tag = Tagger(\n",
        "    encoder_path='drive/My Drive/bert/albert_small',\n",
        "    encoder_trainable=True\n",
        ")\n",
        "\n",
        "tag.fit(\n",
        "    x_train, y_train, epochs=15, batch_size=64,\n",
        "    validation_data=(x_test, y_test),\n",
        "    save_best='/tmp/chn_seg_albert.pkl',\n",
        "    optimizer=tf.keras.optimizers.Adam(1e-3, clipvalue=5.0),\n",
        "    optimizer_encoder=tf.keras.optimizers.Adam(5e-4, clipvalue=5.0)\n",
        ")"
      ],
      "execution_count": null,
      "outputs": [
        {
          "output_type": "stream",
          "text": [
            "安 特 卫 普 会 议 后 不 久 ， 国 际 上 冷 战 加 剧 ， 西 欧 社 会 党 与 共 产 党 之 间 关 系 日 趋 对 立 ， 统 一 的 世 界 工 会 组 织 发 生 了 分 裂 ； １ ９ ４ ７ 年 ９ 月 成 立 了 九 国 共 产 党 情 报 局 ； 同 时 ， 东 欧 各 国 社 会 民 主 党 在 苏 联 占 领 军 事 当 局 的 命 令 下 和 共 产 党 合 并 ， 因 而 被 国 际 社 会 党 会 议 委 员 会 开 除 出 去 ， 意 大 利 社 会 党 在 １ ９ ４ ９ 年 仍 坚 持 同 意 其 合 作 ， 也 被 取 消 了 委 员 的 资 格\n",
            "Bns Ins Ins Ins Bn In Bnd Bn In Bw Bnl Inl Inl Bn In Bv Iv Bw Bns Ins Bn In In Bc Bn In In Bnd Ind Bn In Bd Id Bv Iv Bw Ba Ia Bu Bn In Bj Ij Bn In Bv Iv Bu Bv Iv Bw Bm Im Im Im Bnt Bm Bnt Bv Iv Bu Bm Bn Bn In In Bn In In Bw Bv Iv Bw Bns Ins Bn In Bn In In In In Bp Bns Ins Bv Iv Bn In Bn In Bu Bn In Bnd Bc Bn In In Bv Iv Bw Bc Ic Bp Bn In Bn In In Bn In Bn In In Bv Iv Bvd Ivd Bw Bns Ins Ins Bn In In Bp Bm Im Im Im Bnt Bd Bv Iv Bv Iv Br Bv Iv Bw Bd Bp Bv Iv Bu Bn In Bu Bn In\n",
            "Epoch 1/20\n",
            "  22464/Unknown - 4430s 197ms/step - loss: 6.1426\n",
            "100%|██████████| 1183/1183 [03:40<00:00,  5.37it/s]\n",
            "       precision    recall   f1score\n",
            "name                                \n",
            "        1.000000  0.000000  0.000000\n",
            "a       0.809117  0.836922  0.822785\n",
            "c       0.935279  0.960635  0.947787\n",
            "d       0.898540  0.899328  0.898934\n",
            "e       0.846018  0.733129  0.785538\n",
            "f       0.596491  0.145923  0.234483\n",
            "h       0.608309  0.656525  0.631498\n",
            "i       0.747879  0.323021  0.451173\n",
            "j       0.701349  0.422601  0.527409\n",
            "k       0.657292  0.724178  0.689115\n",
            "m       0.845272  0.845227  0.845249\n",
            "mq      0.792068  0.800354  0.796189\n",
            "n       0.858909  0.838906  0.848790\n",
            "nd      0.872738  0.914234  0.893004\n",
            "nh      0.798049  0.744949  0.770585\n",
            "nhf     0.823565  0.742779  0.781089\n",
            "nhs     0.319986  0.725943  0.444183\n",
            "ni      0.671810  0.376387  0.482468\n",
            "nl      0.837436  0.708046  0.767324\n",
            "ns      0.843934  0.701196  0.765972\n",
            "nt      0.881306  0.865959  0.873565\n",
            "nz      1.000000  0.000000  0.000000\n",
            "o       0.655702  0.674944  0.665184\n",
            "p       0.927232  0.934659  0.930931\n",
            "q       0.825517  0.849237  0.837209\n",
            "r       0.958617  0.948551  0.953558\n",
            "u       0.984725  0.990208  0.987459\n",
            "v       0.870099  0.861581  0.865819\n",
            "vd      0.842457  0.847264  0.844854\n",
            "vl      0.900925  0.942766  0.921371\n",
            "vu      0.917600  0.897128  0.907249\n",
            "w       0.995060  0.995117  0.995089\n",
            "ws      0.767355  0.745150  0.756089\n",
            "x       0.255556  0.144654  0.184739\n",
            "TOTAL   0.896639  0.884287  0.890420\n",
            "best score: 0.8904\n",
            "WARNING:tensorflow:From /usr/local/lib/python3.6/dist-packages/tensorflow/python/training/tracking/tracking.py:111: Model.state_updates (from tensorflow.python.keras.engine.training) is deprecated and will be removed in a future version.\n",
            "Instructions for updating:\n",
            "This property should not be used in TensorFlow 2.0, as updates are applied automatically.\n"
          ],
          "name": "stdout"
        },
        {
          "output_type": "stream",
          "text": [
            "WARNING:tensorflow:From /usr/local/lib/python3.6/dist-packages/tensorflow/python/training/tracking/tracking.py:111: Model.state_updates (from tensorflow.python.keras.engine.training) is deprecated and will be removed in a future version.\n",
            "Instructions for updating:\n",
            "This property should not be used in TensorFlow 2.0, as updates are applied automatically.\n"
          ],
          "name": "stderr"
        },
        {
          "output_type": "stream",
          "text": [
            "WARNING:tensorflow:From /usr/local/lib/python3.6/dist-packages/tensorflow/python/training/tracking/tracking.py:111: Layer.updates (from tensorflow.python.keras.engine.base_layer) is deprecated and will be removed in a future version.\n",
            "Instructions for updating:\n",
            "This property should not be used in TensorFlow 2.0, as updates are applied automatically.\n"
          ],
          "name": "stdout"
        },
        {
          "output_type": "stream",
          "text": [
            "WARNING:tensorflow:From /usr/local/lib/python3.6/dist-packages/tensorflow/python/training/tracking/tracking.py:111: Layer.updates (from tensorflow.python.keras.engine.base_layer) is deprecated and will be removed in a future version.\n",
            "Instructions for updating:\n",
            "This property should not be used in TensorFlow 2.0, as updates are applied automatically.\n"
          ],
          "name": "stderr"
        },
        {
          "output_type": "stream",
          "text": [
            "INFO:tensorflow:Assets written to: /tmp/tmp3ylmq__c/assets\n"
          ],
          "name": "stdout"
        },
        {
          "output_type": "stream",
          "text": [
            "INFO:tensorflow:Assets written to: /tmp/tmp3ylmq__c/assets\n"
          ],
          "name": "stderr"
        },
        {
          "output_type": "stream",
          "text": [
            "\b\b\b\b\b\b\b\b\b\b\b\b\b\b\b\b\b\b\b\b\b\b\b\b\b\b\b\b\b\b\b\b\b\b\b\b\b\b\b\b\b\b\b\b\b\b\b\b\b\r22464/22464 [==============================] - 4672s 208ms/step - loss: 6.1498\n",
            "Epoch 2/20\n",
            "22464/22464 [==============================] - ETA: 0s - loss: 4.5403\n",
            "100%|██████████| 1183/1183 [03:41<00:00,  5.35it/s]\n",
            "       precision    recall   f1score\n",
            "name                                \n",
            "        1.000000  0.000000  0.000000\n",
            "a       0.889084  0.825002  0.855845\n",
            "c       0.954680  0.956678  0.955678\n",
            "d       0.911885  0.912309  0.912097\n",
            "e       0.895492  0.670245  0.766667\n",
            "f       0.640625  0.175966  0.276094\n",
            "h       0.611722  0.668535  0.638868\n",
            "i       0.599445  0.483411  0.535211\n",
            "j       0.657108  0.629644  0.643083\n",
            "k       0.680664  0.799923  0.735491\n",
            "m       0.854613  0.844700  0.849627\n",
            "mq      0.803359  0.796375  0.799852\n",
            "n       0.868617  0.862996  0.865797\n",
            "nd      0.875107  0.926688  0.900159\n",
            "nh      0.883309  0.728361  0.798387\n",
            "nhf     0.776776  0.798365  0.787423\n",
            "nhs     0.404688  0.704388  0.514045\n",
            "ni      0.676805  0.399097  0.502110\n",
            "nl      0.833719  0.740714  0.784470\n",
            "ns      0.777999  0.802278  0.789952\n",
            "nt      0.896856  0.870312  0.883385\n",
            "nz      0.000000  0.000000  0.000000\n",
            "o       0.781915  0.663657  0.717949\n",
            "p       0.917841  0.949593  0.933447\n",
            "q       0.906497  0.800166  0.850019\n",
            "r       0.967558  0.969455  0.968505\n",
            "u       0.986373  0.990704  0.988534\n",
            "v       0.881522  0.880683  0.881102\n",
            "vd      0.839731  0.859181  0.849345\n",
            "vl      0.932010  0.933185  0.932598\n",
            "vu      0.923843  0.908021  0.915864\n",
            "w       0.996991  0.994461  0.995724\n",
            "ws      0.812041  0.762907  0.786707\n",
            "x       0.370370  0.125786  0.187793\n",
            "TOTAL   0.907431  0.897598  0.902488\n",
            "best score: 0.9025 > before 0.8904 saved\n",
            "INFO:tensorflow:Assets written to: /tmp/tmp4inck7nh/assets\n"
          ],
          "name": "stdout"
        },
        {
          "output_type": "stream",
          "text": [
            "INFO:tensorflow:Assets written to: /tmp/tmp4inck7nh/assets\n"
          ],
          "name": "stderr"
        },
        {
          "output_type": "stream",
          "text": [
            "\b\b\b\b\b\b\b\b\b\b\b\b\b\b\b\b\b\b\b\b\b\b\b\b\b\b\b\b\b\b\b\b\b\b\b\b\b\b\b\b\b\b\b\b\b\b\b\b\b\b\b\b\b\b\b\b\b\b\b\b\b\b\b\b\b\b\b\b\b\r22464/22464 [==============================] - 4690s 209ms/step - loss: 4.5470\n",
            "Epoch 3/20\n",
            "22464/22464 [==============================] - ETA: 0s - loss: 4.1537\n",
            "100%|██████████| 1183/1183 [03:41<00:00,  5.33it/s]\n",
            "       precision    recall   f1score\n",
            "name                                \n",
            "        1.000000  0.000000  0.000000\n",
            "a       0.876392  0.844346  0.860071\n",
            "c       0.958764  0.955019  0.956888\n",
            "d       0.921418  0.908575  0.914951\n",
            "e       0.846552  0.753067  0.797078\n",
            "f       0.611765  0.223176  0.327044\n",
            "h       0.628040  0.702962  0.663393\n",
            "i       0.805886  0.351109  0.489119\n",
            "j       0.677143  0.612810  0.643372\n",
            "k       0.715356  0.803749  0.756981\n",
            "m       0.863101  0.867424  0.865257\n",
            "mq      0.796629  0.835715  0.815704\n",
            "n       0.864560  0.876517  0.870498\n",
            "nd      0.895760  0.918116  0.906800\n",
            "nh      0.835269  0.789224  0.811594\n",
            "nhf     0.834495  0.783106  0.807984\n",
            "nhs     0.676983  0.538876  0.600086\n",
            "ni      0.637016  0.481419  0.548394\n",
            "nl      0.832647  0.758500  0.793846\n",
            "ns      0.808378  0.805524  0.806948\n",
            "nt      0.900690  0.872795  0.886523\n",
            "nz      0.000000  0.000000  0.000000\n",
            "o       0.626263  0.699774  0.660981\n",
            "p       0.934705  0.938048  0.936373\n",
            "q       0.883077  0.865378  0.874138\n",
            "r       0.969033  0.970038  0.969536\n",
            "u       0.987432  0.990536  0.988982\n",
            "v       0.881688  0.880475  0.881081\n",
            "vd      0.858191  0.844075  0.851075\n",
            "vl      0.923790  0.944380  0.933972\n",
            "vu      0.920262  0.915652  0.917951\n",
            "w       0.996370  0.994190  0.995279\n",
            "ws      0.777963  0.766195  0.772034\n",
            "x       0.224490  0.276730  0.247887\n",
            "TOTAL   0.908999  0.902600  0.905788\n",
            "best score: 0.9058 > before 0.9025 saved\n",
            "INFO:tensorflow:Assets written to: /tmp/tmp20if_rnr/assets\n"
          ],
          "name": "stdout"
        },
        {
          "output_type": "stream",
          "text": [
            "INFO:tensorflow:Assets written to: /tmp/tmp20if_rnr/assets\n"
          ],
          "name": "stderr"
        },
        {
          "output_type": "stream",
          "text": [
            "\b\b\b\b\b\b\b\b\b\b\b\b\b\b\b\b\b\b\b\b\b\b\b\b\b\b\b\b\b\b\b\b\b\b\b\b\b\b\b\b\b\b\b\b\b\b\b\b\b\b\b\b\b\b\b\b\b\b\b\b\b\b\b\b\b\b\b\b\b\r22464/22464 [==============================] - 4686s 209ms/step - loss: 4.1601\n",
            "Epoch 4/20\n",
            "22464/22464 [==============================] - ETA: 0s - loss: 3.9125\n",
            "100%|██████████| 1183/1183 [03:36<00:00,  5.47it/s]\n",
            "       precision    recall   f1score\n",
            "name                                \n",
            "        1.000000  0.000000  0.000000\n",
            "a       0.846431  0.878168  0.862007\n",
            "c       0.956331  0.960456  0.958389\n",
            "d       0.922478  0.908469  0.915420\n",
            "e       0.838235  0.786810  0.811709\n",
            "f       0.581818  0.137339  0.222222\n",
            "h       0.634573  0.696557  0.664122\n",
            "i       0.509084  0.419194  0.459787\n",
            "j       0.698964  0.626741  0.660886\n",
            "k       0.718915  0.831676  0.771195\n",
            "m       0.870178  0.878391  0.874265\n",
            "mq      0.808755  0.849271  0.828518\n",
            "n       0.866665  0.889561  0.877964\n",
            "nd      0.905429  0.924923  0.915072\n",
            "nh      0.847437  0.773135  0.808583\n",
            "nhf     0.813626  0.787466  0.800332\n",
            "nhs     0.327466  0.759045  0.457541\n",
            "ni      0.650735  0.502452  0.567060\n",
            "nl      0.813678  0.814761  0.814219\n",
            "ns      0.856815  0.785478  0.819597\n",
            "nt      0.896896  0.894944  0.895919\n",
            "nz      1.000000  0.000000  0.000000\n",
            "o       0.770335  0.726862  0.747967\n",
            "p       0.939180  0.936312  0.937744\n",
            "q       0.902603  0.854736  0.878018\n",
            "r       0.969926  0.973636  0.971777\n",
            "u       0.987730  0.991324  0.989523\n",
            "v       0.892411  0.892271  0.892341\n",
            "vd      0.868852  0.845082  0.856803\n",
            "vl      0.915462  0.951793  0.933274\n",
            "vu      0.922237  0.925031  0.923632\n",
            "w       0.996068  0.995446  0.995757\n",
            "ws      0.818274  0.795133  0.806538\n",
            "x       0.291045  0.245283  0.266212\n",
            "TOTAL   0.908259  0.911515  0.909884\n",
            "best score: 0.9099 > before 0.9058 saved\n",
            "INFO:tensorflow:Assets written to: /tmp/tmpk9d6q3gk/assets\n"
          ],
          "name": "stdout"
        },
        {
          "output_type": "stream",
          "text": [
            "INFO:tensorflow:Assets written to: /tmp/tmpk9d6q3gk/assets\n"
          ],
          "name": "stderr"
        },
        {
          "output_type": "stream",
          "text": [
            "\b\b\b\b\b\b\b\b\b\b\b\b\b\b\b\b\b\b\b\b\b\b\b\b\b\b\b\b\b\b\b\b\b\b\b\b\b\b\b\b\b\b\b\b\b\b\b\b\b\b\b\b\b\b\b\b\b\b\b\b\b\b\b\b\b\b\b\b\b\r22464/22464 [==============================] - 4667s 208ms/step - loss: 3.9184\n",
            "Epoch 5/20\n",
            "22464/22464 [==============================] - ETA: 0s - loss: 3.7316\n",
            "100%|██████████| 1183/1183 [03:36<00:00,  5.46it/s]\n",
            "       precision    recall   f1score\n",
            "name                                \n",
            "        1.000000  0.000000  0.000000\n",
            "a       0.895957  0.850794  0.872792\n",
            "c       0.950612  0.964056  0.957287\n",
            "d       0.932510  0.907619  0.919896\n",
            "e       0.893910  0.697853  0.783807\n",
            "f       0.570000  0.244635  0.342342\n",
            "h       0.658951  0.683747  0.671120\n",
            "i       0.626875  0.536027  0.577902\n",
            "j       0.702703  0.633901  0.666531\n",
            "k       0.771152  0.791507  0.781197\n",
            "m       0.881920  0.869691  0.875763\n",
            "mq      0.812888  0.849418  0.830751\n",
            "n       0.884565  0.884063  0.884314\n",
            "nd      0.915118  0.918671  0.916891\n",
            "nh      0.869974  0.779808  0.822427\n",
            "nhf     0.827528  0.802725  0.814938\n",
            "nhs     0.524956  0.688222  0.595603\n",
            "ni      0.625943  0.556645  0.589264\n",
            "nl      0.836695  0.787901  0.811565\n",
            "ns      0.842478  0.805296  0.823468\n",
            "nt      0.903953  0.890629  0.897242\n",
            "nz      0.000000  0.000000  0.000000\n",
            "o       0.761792  0.729120  0.745098\n",
            "p       0.942712  0.936165  0.939427\n",
            "q       0.914537  0.831323  0.870947\n",
            "r       0.968983  0.972971  0.970973\n",
            "u       0.989015  0.991625  0.990318\n",
            "v       0.894336  0.887938  0.891126\n",
            "vd      0.868234  0.842732  0.855293\n",
            "vl      0.926024  0.949372  0.937553\n",
            "vu      0.936180  0.919438  0.927734\n",
            "w       0.994689  0.996477  0.995582\n",
            "ws      0.817614  0.775403  0.795949\n",
            "x       0.396552  0.144654  0.211982\n",
            "TOTAL   0.918293  0.908770  0.913507\n",
            "best score: 0.9135 > before 0.9099 saved\n",
            "INFO:tensorflow:Assets written to: /tmp/tmprcftj9kc/assets\n"
          ],
          "name": "stdout"
        },
        {
          "output_type": "stream",
          "text": [
            "INFO:tensorflow:Assets written to: /tmp/tmprcftj9kc/assets\n"
          ],
          "name": "stderr"
        },
        {
          "output_type": "stream",
          "text": [
            "\b\b\b\b\b\b\b\b\b\b\b\b\b\b\b\b\b\b\b\b\b\b\b\b\b\b\b\b\b\b\b\b\b\b\b\b\b\b\b\b\b\b\b\b\b\b\b\b\b\b\b\b\b\b\b\b\b\b\b\b\b\b\b\b\b\b\b\b\b\r22464/22464 [==============================] - 4585s 204ms/step - loss: 3.7373\n",
            "Epoch 6/20\n",
            "22464/22464 [==============================] - ETA: 0s - loss: 3.5966\n",
            "100%|██████████| 1183/1183 [03:33<00:00,  5.54it/s]\n",
            "       precision    recall   f1score\n",
            "name                                \n",
            "        1.000000  0.000000  0.000000\n",
            "a       0.897881  0.839386  0.867649\n",
            "c       0.944557  0.967247  0.955767\n",
            "d       0.932686  0.909067  0.920725\n",
            "e       0.870370  0.720859  0.788591\n",
            "f       0.586207  0.218884  0.318750\n",
            "h       0.589677  0.731785  0.653090\n",
            "i       0.606406  0.514451  0.556657\n",
            "j       0.771792  0.551664  0.643421\n",
            "k       0.749560  0.815226  0.781015\n",
            "m       0.878409  0.877205  0.877806\n",
            "mq      0.830967  0.819213  0.825048\n",
            "n       0.876810  0.886848  0.881800\n",
            "nd      0.909908  0.924268  0.917031\n",
            "nh      0.842726  0.797269  0.819367\n",
            "nhf     0.858068  0.794005  0.824795\n",
            "nhs     0.529275  0.702848  0.603836\n",
            "ni      0.502432  0.613032  0.552249\n",
            "nl      0.838705  0.765033  0.800177\n",
            "ns      0.833660  0.800000  0.816483\n",
            "nt      0.906658  0.888757  0.897618\n",
            "nz      1.000000  0.000000  0.000000\n",
            "o       0.636719  0.735892  0.682723\n",
            "p       0.939784  0.940118  0.939951\n",
            "q       0.867920  0.889677  0.878664\n",
            "r       0.970380  0.973603  0.971989\n",
            "u       0.989437  0.990137  0.989787\n",
            "v       0.914807  0.879073  0.896584\n",
            "vd      0.849119  0.865223  0.857095\n",
            "vl      0.931547  0.948364  0.939880\n",
            "vu      0.937466  0.915186  0.926192\n",
            "w       0.996127  0.995800  0.995963\n",
            "ws      0.774944  0.799408  0.786986\n",
            "x       0.250000  0.270440  0.259819\n",
            "TOTAL   0.917944  0.908134  0.913013\n",
            "best score: 0.9130 <= before 0.9135 do nothing\n",
            "22464/22464 [==============================] - 4546s 202ms/step - loss: 3.6020\n",
            "Epoch 7/20\n",
            "22464/22464 [==============================] - ETA: 0s - loss: 3.4985\n",
            "100%|██████████| 1183/1183 [03:40<00:00,  5.37it/s]\n",
            "       precision    recall   f1score\n",
            "name                                \n",
            "        1.000000  0.000000  0.000000\n",
            "a       0.883486  0.866341  0.874830\n",
            "c       0.953877  0.964056  0.958940\n",
            "d       0.936527  0.910209  0.923181\n",
            "e       0.816568  0.846626  0.831325\n",
            "f       0.605634  0.369099  0.458667\n",
            "h       0.672080  0.695757  0.683714\n",
            "i       0.514463  0.564726  0.538424\n",
            "j       0.724994  0.615712  0.665899\n",
            "k       0.718099  0.843917  0.775941\n",
            "m       0.889129  0.877363  0.883207\n",
            "mq      0.809777  0.854280  0.831433\n",
            "n       0.894877  0.882870  0.888833\n",
            "nd      0.914442  0.925831  0.920101\n",
            "nh      0.841559  0.798578  0.819505\n",
            "nhf     0.848194  0.819074  0.833380\n",
            "nhs     0.641353  0.656659  0.648916\n",
            "ni      0.559203  0.597806  0.577861\n",
            "nl      0.836760  0.817423  0.826978\n",
            "ns      0.842506  0.794191  0.817636\n",
            "nt      0.915128  0.893111  0.903985\n",
            "nz      0.000000  0.000000  0.000000\n",
            "o       0.690083  0.753950  0.720604\n",
            "p       0.940558  0.940558  0.940558\n",
            "q       0.890762  0.877912  0.884290\n",
            "r       0.970154  0.974430  0.972287\n",
            "u       0.990434  0.989996  0.990215\n",
            "v       0.902925  0.892992  0.897931\n",
            "vd      0.885554  0.846761  0.865723\n",
            "vl      0.926507  0.952297  0.939225\n",
            "vu      0.938245  0.922176  0.930141\n",
            "w       0.995916  0.996305  0.996111\n",
            "ws      0.808287  0.808287  0.808287\n",
            "x       0.373494  0.194969  0.256198\n",
            "TOTAL   0.919848  0.912412  0.916115\n",
            "best score: 0.9161 > before 0.9135 saved\n",
            "INFO:tensorflow:Assets written to: /tmp/tmpkq44gka7/assets\n"
          ],
          "name": "stdout"
        },
        {
          "output_type": "stream",
          "text": [
            "INFO:tensorflow:Assets written to: /tmp/tmpkq44gka7/assets\n"
          ],
          "name": "stderr"
        },
        {
          "output_type": "stream",
          "text": [
            "\b\b\b\b\b\b\b\b\b\b\b\b\b\b\b\b\b\b\b\b\b\b\b\b\b\b\b\b\b\b\b\b\b\b\b\b\b\b\b\b\b\b\b\b\b\b\b\b\b\b\b\b\b\b\b\b\b\b\b\b\b\b\b\b\b\b\b\b\b\r22464/22464 [==============================] - 4594s 205ms/step - loss: 3.5035\n",
            "Epoch 8/20\n",
            "22464/22464 [==============================] - ETA: 0s - loss: 3.3998\n",
            "100%|██████████| 1183/1183 [03:42<00:00,  5.32it/s]\n",
            "       precision    recall   f1score\n",
            "name                                \n",
            "        1.000000  0.000000  0.000000\n",
            "a       0.891183  0.866512  0.878674\n",
            "c       0.954166  0.965639  0.959868\n",
            "d       0.935551  0.912468  0.923865\n",
            "e       0.873188  0.739264  0.800664\n",
            "f       0.615385  0.137339  0.224561\n",
            "h       0.699762  0.705364  0.702552\n",
            "i       0.572528  0.567983  0.570246\n",
            "j       0.767352  0.577593  0.659086\n",
            "k       0.795315  0.792272  0.793791\n",
            "m       0.892050  0.877916  0.884927\n",
            "mq      0.823019  0.852365  0.837435\n",
            "n       0.881557  0.895001  0.888228\n",
            "nd      0.913059  0.918721  0.915881\n",
            "nh      0.874677  0.782115  0.825811\n",
            "nhf     0.847701  0.803815  0.825175\n",
            "nhs     0.601839  0.655119  0.627350\n",
            "ni      0.699417  0.495097  0.579782\n",
            "nl      0.800139  0.834604  0.817008\n",
            "ns      0.850247  0.812528  0.830960\n",
            "nt      0.913064  0.891201  0.902000\n",
            "nz      1.000000  0.000000  0.000000\n",
            "o       0.751756  0.724605  0.737931\n",
            "p       0.946230  0.937107  0.941646\n",
            "q       0.892756  0.872118  0.882316\n",
            "r       0.971334  0.975175  0.973251\n",
            "u       0.988673  0.991457  0.990063\n",
            "v       0.909197  0.893646  0.901355\n",
            "vd      0.884833  0.838201  0.860886\n",
            "vl      0.926442  0.952650  0.939363\n",
            "vu      0.935396  0.924390  0.929861\n",
            "w       0.997042  0.996066  0.996554\n",
            "ws      0.820850  0.800066  0.810325\n",
            "x       0.419355  0.245283  0.309524\n",
            "TOTAL   0.921574  0.914208  0.917876\n",
            "best score: 0.9179 > before 0.9161 saved\n",
            "INFO:tensorflow:Assets written to: /tmp/tmpebn7tob6/assets\n"
          ],
          "name": "stdout"
        },
        {
          "output_type": "stream",
          "text": [
            "INFO:tensorflow:Assets written to: /tmp/tmpebn7tob6/assets\n"
          ],
          "name": "stderr"
        },
        {
          "output_type": "stream",
          "text": [
            "\b\b\b\b\b\b\b\b\b\b\b\b\b\b\b\b\b\b\b\b\b\b\b\b\b\b\b\b\b\b\b\b\b\b\b\b\b\b\b\b\b\b\b\b\b\b\b\b\b\b\b\b\b\b\b\b\b\b\b\b\b\b\b\b\b\b\b\b\b\r22464/22464 [==============================] - 4711s 210ms/step - loss: 3.4048\n",
            "Epoch 9/20\n",
            "22464/22464 [==============================] - ETA: 0s - loss: 3.3143\n",
            "100%|██████████| 1183/1183 [03:30<00:00,  5.62it/s]\n",
            "       precision    recall   f1score\n",
            "name                                \n",
            "        0.000000  0.000000  0.000000\n",
            "a       0.862982  0.889762  0.876168\n",
            "c       0.957828  0.962499  0.960158\n",
            "d       0.931261  0.920002  0.925597\n",
            "e       0.856198  0.794479  0.824185\n",
            "f       0.639175  0.266094  0.375758\n",
            "h       0.704878  0.694155  0.699476\n",
            "i       0.495848  0.589457  0.538615\n",
            "j       0.733979  0.644930  0.686579\n",
            "k       0.796219  0.805662  0.800913\n",
            "m       0.893861  0.878944  0.886340\n",
            "mq      0.833212  0.839841  0.836513\n",
            "n       0.897958  0.890434  0.894180\n",
            "nd      0.911383  0.931327  0.921247\n",
            "nh      0.829416  0.829571  0.829493\n",
            "nhf     0.831672  0.818529  0.825048\n",
            "nhs     0.574784  0.715935  0.637641\n",
            "ni      0.655470  0.538839  0.591460\n",
            "nl      0.839940  0.815245  0.827408\n",
            "ns      0.868355  0.802733  0.834256\n",
            "nt      0.912795  0.904185  0.908470\n",
            "nz      1.000000  0.000000  0.000000\n",
            "o       0.772093  0.749436  0.760596\n",
            "p       0.937914  0.944113  0.941004\n",
            "q       0.913373  0.855268  0.883366\n",
            "r       0.970907  0.973927  0.972415\n",
            "u       0.989538  0.990651  0.990094\n",
            "v       0.911215  0.894716  0.902890\n",
            "vd      0.866825  0.856495  0.861629\n",
            "vl      0.935764  0.946145  0.940926\n",
            "vu      0.935154  0.933302  0.934227\n",
            "w       0.996965  0.996180  0.996572\n",
            "ws      0.825499  0.802696  0.813938\n",
            "x       0.500000  0.226415  0.311688\n",
            "TOTAL   0.922186  0.916471  0.919320\n",
            "best score: 0.9193 > before 0.9179 saved\n",
            "INFO:tensorflow:Assets written to: /tmp/tmpe4g2_klf/assets\n"
          ],
          "name": "stdout"
        },
        {
          "output_type": "stream",
          "text": [
            "INFO:tensorflow:Assets written to: /tmp/tmpe4g2_klf/assets\n"
          ],
          "name": "stderr"
        },
        {
          "output_type": "stream",
          "text": [
            "\b\b\b\b\b\b\b\b\b\b\b\b\b\b\b\b\b\b\b\b\b\b\b\b\b\b\b\b\b\b\b\b\b\b\b\b\b\b\b\b\b\b\b\b\b\b\b\b\b\b\b\b\b\b\b\b\b\b\b\b\b\b\b\b\b\b\b\b\b\r22464/22464 [==============================] - 4560s 203ms/step - loss: 3.3190\n",
            "Epoch 10/20\n",
            "22464/22464 [==============================] - ETA: 0s - loss: 3.2436\n",
            "100%|██████████| 1183/1183 [03:33<00:00,  5.54it/s]\n",
            "       precision    recall   f1score\n",
            "name                                \n",
            "        1.000000  0.000000  0.000000\n",
            "a       0.870742  0.876897  0.873809\n",
            "c       0.945121  0.970310  0.957550\n",
            "d       0.938913  0.907738  0.923062\n",
            "e       0.834116  0.817485  0.825716\n",
            "f       0.564286  0.339056  0.423592\n",
            "h       0.667406  0.722978  0.694081\n",
            "i       0.755787  0.495115  0.598291\n",
            "j       0.700958  0.651316  0.675226\n",
            "k       0.797864  0.800306  0.799083\n",
            "m       0.890819  0.884243  0.887519\n",
            "mq      0.819484  0.851481  0.835176\n",
            "n       0.899426  0.885367  0.892341\n",
            "nd      0.915331  0.927192  0.921223\n",
            "nh      0.851399  0.808182  0.829228\n",
            "nhf     0.868296  0.794005  0.829490\n",
            "nhs     0.622750  0.665897  0.643601\n",
            "ni      0.572412  0.611484  0.591303\n",
            "nl      0.835616  0.819238  0.827346\n",
            "ns      0.866522  0.797437  0.830546\n",
            "nt      0.905319  0.907393  0.906355\n",
            "nz      0.000000  0.000000  0.000000\n",
            "o       0.748869  0.747178  0.748023\n",
            "p       0.945993  0.934952  0.940440\n",
            "q       0.907423  0.868689  0.887634\n",
            "r       0.974910  0.971529  0.973216\n",
            "u       0.990282  0.990554  0.990418\n",
            "v       0.908407  0.886450  0.897294\n",
            "vd      0.884299  0.847936  0.865736\n",
            "vl      0.934152  0.947859  0.940956\n",
            "vu      0.934742  0.930331  0.932531\n",
            "w       0.995808  0.996602  0.996205\n",
            "ws      0.790646  0.817165  0.803687\n",
            "x       0.320312  0.257862  0.285714\n",
            "TOTAL   0.924646  0.912198  0.918380\n",
            "best score: 0.9184 <= before 0.9193 do nothing\n",
            "22464/22464 [==============================] - 4490s 200ms/step - loss: 3.2483\n",
            "Epoch 11/20\n",
            "22464/22464 [==============================] - ETA: 0s - loss: 3.1922\n",
            "100%|██████████| 1183/1183 [03:41<00:00,  5.35it/s]\n",
            "       precision    recall   f1score\n",
            "name                                \n",
            "        1.000000  0.000000  0.000000\n",
            "a       0.893047  0.857708  0.875021\n",
            "c       0.945828  0.964541  0.955093\n",
            "d       0.930643  0.912083  0.921269\n",
            "e       0.843137  0.791411  0.816456\n",
            "f       0.551948  0.364807  0.439276\n",
            "h       0.735320  0.671737  0.702092\n",
            "i       0.685554  0.522084  0.592755\n",
            "j       0.764915  0.583011  0.661689\n",
            "k       0.779542  0.807575  0.793311\n",
            "m       0.889530  0.877969  0.883712\n",
            "mq      0.837569  0.830411  0.833975\n",
            "n       0.889489  0.882087  0.885773\n",
            "nd      0.926962  0.910604  0.918710\n",
            "nh      0.821308  0.820591  0.820950\n",
            "nhf     0.858300  0.808719  0.832772\n",
            "nhs     0.617752  0.664357  0.640208\n",
            "ni      0.542535  0.608129  0.573462\n",
            "nl      0.854327  0.791894  0.821926\n",
            "ns      0.842493  0.808428  0.825109\n",
            "nt      0.915835  0.886772  0.901069\n",
            "nz      0.031250  0.033333  0.032258\n",
            "o       0.688391  0.762980  0.723769\n",
            "p       0.935870  0.937964  0.936916\n",
            "q       0.895415  0.878740  0.886999\n",
            "r       0.971799  0.966036  0.968909\n",
            "u       0.990984  0.988632  0.989807\n",
            "v       0.917184  0.875328  0.895767\n",
            "vd      0.862092  0.860356  0.861223\n",
            "vl      0.931305  0.947506  0.939336\n",
            "vu      0.938030  0.921419  0.929650\n",
            "w       0.996700  0.996133  0.996416\n",
            "ws      0.830721  0.784281  0.806834\n",
            "x       0.407407  0.207547  0.275000\n",
            "TOTAL   0.923839  0.907296  0.915492\n",
            "best score: 0.9155 <= before 0.9193 do nothing\n",
            "22464/22464 [==============================] - 4658s 207ms/step - loss: 3.1968\n",
            "Epoch 12/20\n",
            "22464/22464 [==============================] - ETA: 0s - loss: 3.1376\n",
            "100%|██████████| 1183/1183 [03:39<00:00,  5.40it/s]\n",
            "       precision    recall   f1score\n",
            "name                                \n",
            "        0.000000  0.000000  0.000000\n",
            "a       0.870593  0.882306  0.876411\n",
            "c       0.956258  0.964362  0.960293\n",
            "d       0.927702  0.920639  0.924157\n",
            "e       0.861204  0.789877  0.824000\n",
            "f       0.546961  0.424893  0.478261\n",
            "h       0.705551  0.702162  0.703852\n",
            "i       0.620038  0.567474  0.592593\n",
            "j       0.729760  0.634868  0.679015\n",
            "k       0.808679  0.784239  0.796271\n",
            "m       0.882376  0.892099  0.887211\n",
            "mq      0.840173  0.829527  0.834816\n",
            "n       0.896886  0.892087  0.894480\n",
            "nd      0.909651  0.930520  0.919967\n",
            "nh      0.888335  0.777875  0.829443\n",
            "nhf     0.816685  0.810899  0.813782\n",
            "nhs     0.625920  0.654349  0.639819\n",
            "ni      0.665245  0.543355  0.598153\n",
            "nl      0.829787  0.830490  0.830138\n",
            "ns      0.860677  0.806321  0.832613\n",
            "nt      0.917325  0.886848  0.901829\n",
            "nz      1.000000  0.000000  0.000000\n",
            "o       0.750562  0.753950  0.752252\n",
            "p       0.944234  0.937776  0.940994\n",
            "q       0.895120  0.878503  0.886734\n",
            "r       0.972881  0.974300  0.973590\n",
            "u       0.989554  0.991306  0.990429\n",
            "v       0.908307  0.899323  0.903793\n",
            "vd      0.849088  0.859349  0.854188\n",
            "vl      0.929673  0.951238  0.940332\n",
            "vu      0.933628  0.934118  0.933873\n",
            "w       0.996249  0.996389  0.996319\n",
            "ws      0.813298  0.796449  0.804785\n",
            "x       0.360656  0.276730  0.313167\n",
            "TOTAL   0.923457  0.916918  0.920176\n",
            "best score: 0.9202 > before 0.9193 saved\n",
            "INFO:tensorflow:Assets written to: /tmp/tmp14bkixq3/assets\n"
          ],
          "name": "stdout"
        },
        {
          "output_type": "stream",
          "text": [
            "INFO:tensorflow:Assets written to: /tmp/tmp14bkixq3/assets\n"
          ],
          "name": "stderr"
        },
        {
          "output_type": "stream",
          "text": [
            "\b\b\b\b\b\b\b\b\b\b\b\b\b\b\b\b\b\b\b\b\b\b\b\b\b\b\b\b\b\b\b\b\b\b\b\b\b\b\b\b\b\b\b\b\b\b\b\b\b\b\b\b\b\b\b\b\b\b\b\b\b\b\b\b\b\b\b\b\b\r22464/22464 [==============================] - 4671s 208ms/step - loss: 3.1421\n",
            "Epoch 13/20\n",
            "22464/22464 [==============================] - ETA: 0s - loss: 3.0840\n",
            "100%|██████████| 1183/1183 [03:40<00:00,  5.35it/s]\n",
            "       precision    recall   f1score\n",
            "name                                \n",
            "        0.000000  0.000000  0.000000\n",
            "a       0.891144  0.863117  0.876906\n",
            "c       0.952630  0.965690  0.959116\n",
            "d       0.935741  0.912256  0.923849\n",
            "e       0.844094  0.822086  0.832945\n",
            "f       0.532934  0.381974  0.445000\n",
            "h       0.674419  0.742994  0.707048\n",
            "i       0.733668  0.505190  0.598361\n",
            "j       0.756487  0.614938  0.678408\n",
            "k       0.749744  0.841239  0.792861\n",
            "m       0.891222  0.885983  0.888595\n",
            "mq      0.825365  0.849565  0.837290\n",
            "n       0.895636  0.893866  0.894750\n",
            "nd      0.922275  0.923763  0.923019\n",
            "nh      0.852395  0.807745  0.829470\n",
            "nhf     0.834144  0.841417  0.837765\n",
            "nhs     0.615917  0.685142  0.648688\n",
            "ni      0.626704  0.581419  0.603213\n",
            "nl      0.827504  0.835814  0.831638\n",
            "ns      0.841558  0.820615  0.830955\n",
            "nt      0.910115  0.904415  0.907256\n",
            "nz      1.000000  0.000000  0.000000\n",
            "o       0.736383  0.762980  0.749446\n",
            "p       0.943315  0.941164  0.942238\n",
            "q       0.895201  0.876729  0.885869\n",
            "r       0.972262  0.974089  0.973175\n",
            "u       0.990743  0.990182  0.990462\n",
            "v       0.899848  0.900094  0.899971\n",
            "vd      0.886235  0.840718  0.862877\n",
            "vl      0.927726  0.952146  0.939777\n",
            "vu      0.933910  0.930157  0.932030\n",
            "w       0.995240  0.996879  0.996058\n",
            "ws      0.806314  0.806314  0.806314\n",
            "x       0.368852  0.283019  0.320285\n",
            "TOTAL   0.923060  0.916716  0.919877\n",
            "best score: 0.9199 <= before 0.9202 do nothing\n",
            "22464/22464 [==============================] - 4643s 207ms/step - loss: 3.0885\n",
            "Epoch 14/20\n",
            "22464/22464 [==============================] - ETA: 0s - loss: 3.0365\n",
            "100%|██████████| 1183/1183 [03:19<00:00,  5.93it/s]\n",
            "       precision    recall   f1score\n",
            "name                                \n",
            "        0.000000  0.000000  0.000000\n",
            "a       0.883834  0.878478  0.881148\n",
            "c       0.955986  0.966456  0.961192\n",
            "d       0.928942  0.920586  0.924745\n",
            "e       0.876786  0.753067  0.810231\n",
            "f       0.573770  0.300429  0.394366\n",
            "h       0.695276  0.706966  0.701072\n",
            "i       0.604609  0.574089  0.588954\n",
            "j       0.773928  0.600813  0.676471\n",
            "k       0.758957  0.834736  0.795045\n",
            "m       0.887549  0.888672  0.888110\n",
            "mq      0.830340  0.837925  0.834116\n",
            "n       0.891472  0.900560  0.895993\n",
            "nd      0.913280  0.929259  0.921201\n",
            "nh      0.887772  0.776441  0.828382\n",
            "nhf     0.830565  0.817439  0.823949\n",
            "nhs     0.533181  0.717475  0.611749\n",
            "ni      0.681306  0.538452  0.601514\n",
            "nl      0.840000  0.833394  0.836684\n",
            "ns      0.864665  0.800456  0.831322\n",
            "nt      0.913866  0.905560  0.909694\n",
            "nz      1.000000  0.000000  0.000000\n",
            "o       0.741379  0.776524  0.758545\n",
            "p       0.947596  0.936437  0.941983\n",
            "q       0.900280  0.873773  0.886829\n",
            "r       0.974122  0.973538  0.973830\n",
            "u       0.989200  0.991758  0.990477\n",
            "v       0.910974  0.900400  0.905656\n",
            "vd      0.871316  0.853474  0.862303\n",
            "vl      0.931573  0.950129  0.940759\n",
            "vu      0.932373  0.934817  0.933593\n",
            "w       0.996425  0.996300  0.996362\n",
            "ws      0.801290  0.816837  0.808989\n",
            "x       0.354839  0.276730  0.310954\n",
            "TOTAL   0.923819  0.918879  0.921342\n",
            "best score: 0.9213 > before 0.9202 saved\n",
            "INFO:tensorflow:Assets written to: /tmp/tmpfcffpa9v/assets\n"
          ],
          "name": "stdout"
        },
        {
          "output_type": "stream",
          "text": [
            "INFO:tensorflow:Assets written to: /tmp/tmpfcffpa9v/assets\n"
          ],
          "name": "stderr"
        },
        {
          "output_type": "stream",
          "text": [
            "\b\b\b\b\b\b\b\b\b\b\b\b\b\b\b\b\b\b\b\b\b\b\b\b\b\b\b\b\b\b\b\b\b\b\b\b\b\b\b\b\b\b\b\b\b\b\b\b\b\b\b\b\b\b\b\b\b\b\b\b\b\b\b\b\b\b\b\b\b\r22464/22464 [==============================] - 4414s 196ms/step - loss: 3.0407\n",
            "Epoch 15/20\n",
            "22464/22464 [==============================] - ETA: 0s - loss: 2.9932\n",
            "100%|██████████| 1183/1183 [03:23<00:00,  5.81it/s]\n",
            "       precision    recall   f1score\n",
            "name                                \n",
            "        1.000000  0.000000  0.000000\n",
            "a       0.877387  0.887546  0.882437\n",
            "c       0.954645  0.967732  0.961144\n",
            "d       0.932466  0.920746  0.926569\n",
            "e       0.866551  0.766871  0.813670\n",
            "f       0.560847  0.454936  0.502370\n",
            "h       0.680060  0.731785  0.704975\n",
            "i       0.642624  0.562182  0.599718\n",
            "j       0.737106  0.655379  0.693844\n",
            "k       0.772841  0.825172  0.798150\n",
            "m       0.888341  0.888857  0.888599\n",
            "mq      0.835648  0.842051  0.838838\n",
            "n       0.887579  0.901864  0.894665\n",
            "nd      0.905483  0.935159  0.920081\n",
            "nh      0.857775  0.809741  0.833066\n",
            "nhf     0.825525  0.835422  0.830444\n",
            "nhs     0.591678  0.700539  0.641523\n",
            "ni      0.578934  0.597161  0.587907\n",
            "nl      0.849805  0.818754  0.833991\n",
            "ns      0.888052  0.786048  0.833943\n",
            "nt      0.909880  0.904911  0.907389\n",
            "nz      0.000000  0.000000  0.000000\n",
            "o       0.736842  0.726862  0.731818\n",
            "p       0.939753  0.943841  0.941793\n",
            "q       0.906047  0.867211  0.886204\n",
            "r       0.970816  0.975661  0.973232\n",
            "u       0.988640  0.992351  0.990492\n",
            "v       0.913687  0.902476  0.908047\n",
            "vd      0.885599  0.848439  0.866621\n",
            "vl      0.932768  0.947960  0.940303\n",
            "vu      0.938417  0.931147  0.934768\n",
            "w       0.996472  0.996561  0.996517\n",
            "ws      0.826188  0.817494  0.821818\n",
            "x       0.339869  0.327044  0.333333\n",
            "TOTAL   0.922378  0.920992  0.921684\n",
            "best score: 0.9217 > before 0.9213 saved\n",
            "INFO:tensorflow:Assets written to: /tmp/tmphe06o6dc/assets\n"
          ],
          "name": "stdout"
        },
        {
          "output_type": "stream",
          "text": [
            "INFO:tensorflow:Assets written to: /tmp/tmphe06o6dc/assets\n"
          ],
          "name": "stderr"
        },
        {
          "output_type": "stream",
          "text": [
            "\b\b\b\b\b\b\b\b\b\b\b\b\b\b\b\b\b\b\b\b\b\b\b\b\b\b\b\b\b\b\b\b\b\b\b\b\b\b\b\b\b\b\b\b\b\b\b\b\b\b\b\b\b\b\b\b\b\b\b\b\b\b\b\b\b\b\b\b\b\r22464/22464 [==============================] - 4297s 191ms/step - loss: 2.9973\n",
            "Epoch 16/20\n",
            " 4316/22464 [====>.........................] - ETA: 55:34 - loss: 2.9164"
          ],
          "name": "stdout"
        },
        {
          "output_type": "error",
          "ename": "KeyboardInterrupt",
          "evalue": "ignored",
          "traceback": [
            "\u001b[0;31m---------------------------------------------------------------------------\u001b[0m",
            "\u001b[0;31mKeyboardInterrupt\u001b[0m                         Traceback (most recent call last)",
            "\u001b[0;32m<ipython-input-9-bed5b045ed38>\u001b[0m in \u001b[0;36m<module>\u001b[0;34m()\u001b[0m\n\u001b[1;32m     23\u001b[0m     \u001b[0msave_best\u001b[0m\u001b[0;34m=\u001b[0m\u001b[0;34m'/tmp/chn_seg_albert.pkl'\u001b[0m\u001b[0;34m,\u001b[0m\u001b[0;34m\u001b[0m\u001b[0;34m\u001b[0m\u001b[0m\n\u001b[1;32m     24\u001b[0m     \u001b[0moptimizer\u001b[0m\u001b[0;34m=\u001b[0m\u001b[0mtf\u001b[0m\u001b[0;34m.\u001b[0m\u001b[0mkeras\u001b[0m\u001b[0;34m.\u001b[0m\u001b[0moptimizers\u001b[0m\u001b[0;34m.\u001b[0m\u001b[0mAdam\u001b[0m\u001b[0;34m(\u001b[0m\u001b[0;36m1e-3\u001b[0m\u001b[0;34m,\u001b[0m \u001b[0mclipvalue\u001b[0m\u001b[0;34m=\u001b[0m\u001b[0;36m5.0\u001b[0m\u001b[0;34m)\u001b[0m\u001b[0;34m,\u001b[0m\u001b[0;34m\u001b[0m\u001b[0;34m\u001b[0m\u001b[0m\n\u001b[0;32m---> 25\u001b[0;31m     \u001b[0moptimizer_encoder\u001b[0m\u001b[0;34m=\u001b[0m\u001b[0mtf\u001b[0m\u001b[0;34m.\u001b[0m\u001b[0mkeras\u001b[0m\u001b[0;34m.\u001b[0m\u001b[0moptimizers\u001b[0m\u001b[0;34m.\u001b[0m\u001b[0mAdam\u001b[0m\u001b[0;34m(\u001b[0m\u001b[0;36m5e-4\u001b[0m\u001b[0;34m,\u001b[0m \u001b[0mclipvalue\u001b[0m\u001b[0;34m=\u001b[0m\u001b[0;36m5.0\u001b[0m\u001b[0;34m)\u001b[0m\u001b[0;34m\u001b[0m\u001b[0;34m\u001b[0m\u001b[0m\n\u001b[0m\u001b[1;32m     26\u001b[0m )\n\u001b[1;32m     27\u001b[0m \u001b[0;34m\u001b[0m\u001b[0m\n",
            "\u001b[0;32m/usr/local/lib/python3.6/dist-packages/tfnlu/tagger/tagger.py\u001b[0m in \u001b[0;36mfit\u001b[0;34m(self, x, y, epochs, batch_size, shuffle, validation_data, save_best, optimizer, optimizer_encoder, pointer)\u001b[0m\n\u001b[1;32m    209\u001b[0m                     \u001b[0mbatch_size\u001b[0m\u001b[0;34m=\u001b[0m\u001b[0mbatch_size\u001b[0m\u001b[0;34m,\u001b[0m\u001b[0;34m\u001b[0m\u001b[0;34m\u001b[0m\u001b[0m\n\u001b[1;32m    210\u001b[0m                     \u001b[0mvalidation_data\u001b[0m\u001b[0;34m=\u001b[0m\u001b[0mvalidation_data\u001b[0m\u001b[0;34m,\u001b[0m\u001b[0;34m\u001b[0m\u001b[0;34m\u001b[0m\u001b[0m\n\u001b[0;32m--> 211\u001b[0;31m                     save_best=save_best)\n\u001b[0m\u001b[1;32m    212\u001b[0m             ]\n\u001b[1;32m    213\u001b[0m         )\n",
            "\u001b[0;32m/usr/local/lib/python3.6/dist-packages/tensorflow/python/keras/engine/training.py\u001b[0m in \u001b[0;36m_method_wrapper\u001b[0;34m(self, *args, **kwargs)\u001b[0m\n\u001b[1;32m    106\u001b[0m   \u001b[0;32mdef\u001b[0m \u001b[0m_method_wrapper\u001b[0m\u001b[0;34m(\u001b[0m\u001b[0mself\u001b[0m\u001b[0;34m,\u001b[0m \u001b[0;34m*\u001b[0m\u001b[0margs\u001b[0m\u001b[0;34m,\u001b[0m \u001b[0;34m**\u001b[0m\u001b[0mkwargs\u001b[0m\u001b[0;34m)\u001b[0m\u001b[0;34m:\u001b[0m\u001b[0;34m\u001b[0m\u001b[0;34m\u001b[0m\u001b[0m\n\u001b[1;32m    107\u001b[0m     \u001b[0;32mif\u001b[0m \u001b[0;32mnot\u001b[0m \u001b[0mself\u001b[0m\u001b[0;34m.\u001b[0m\u001b[0m_in_multi_worker_mode\u001b[0m\u001b[0;34m(\u001b[0m\u001b[0;34m)\u001b[0m\u001b[0;34m:\u001b[0m  \u001b[0;31m# pylint: disable=protected-access\u001b[0m\u001b[0;34m\u001b[0m\u001b[0;34m\u001b[0m\u001b[0m\n\u001b[0;32m--> 108\u001b[0;31m       \u001b[0;32mreturn\u001b[0m \u001b[0mmethod\u001b[0m\u001b[0;34m(\u001b[0m\u001b[0mself\u001b[0m\u001b[0;34m,\u001b[0m \u001b[0;34m*\u001b[0m\u001b[0margs\u001b[0m\u001b[0;34m,\u001b[0m \u001b[0;34m**\u001b[0m\u001b[0mkwargs\u001b[0m\u001b[0;34m)\u001b[0m\u001b[0;34m\u001b[0m\u001b[0;34m\u001b[0m\u001b[0m\n\u001b[0m\u001b[1;32m    109\u001b[0m \u001b[0;34m\u001b[0m\u001b[0m\n\u001b[1;32m    110\u001b[0m     \u001b[0;31m# Running inside `run_distribute_coordinator` already.\u001b[0m\u001b[0;34m\u001b[0m\u001b[0;34m\u001b[0m\u001b[0;34m\u001b[0m\u001b[0m\n",
            "\u001b[0;32m/usr/local/lib/python3.6/dist-packages/tensorflow/python/keras/engine/training.py\u001b[0m in \u001b[0;36mfit\u001b[0;34m(self, x, y, batch_size, epochs, verbose, callbacks, validation_split, validation_data, shuffle, class_weight, sample_weight, initial_epoch, steps_per_epoch, validation_steps, validation_batch_size, validation_freq, max_queue_size, workers, use_multiprocessing)\u001b[0m\n\u001b[1;32m   1096\u001b[0m                 batch_size=batch_size):\n\u001b[1;32m   1097\u001b[0m               \u001b[0mcallbacks\u001b[0m\u001b[0;34m.\u001b[0m\u001b[0mon_train_batch_begin\u001b[0m\u001b[0;34m(\u001b[0m\u001b[0mstep\u001b[0m\u001b[0;34m)\u001b[0m\u001b[0;34m\u001b[0m\u001b[0;34m\u001b[0m\u001b[0m\n\u001b[0;32m-> 1098\u001b[0;31m               \u001b[0mtmp_logs\u001b[0m \u001b[0;34m=\u001b[0m \u001b[0mtrain_function\u001b[0m\u001b[0;34m(\u001b[0m\u001b[0miterator\u001b[0m\u001b[0;34m)\u001b[0m\u001b[0;34m\u001b[0m\u001b[0;34m\u001b[0m\u001b[0m\n\u001b[0m\u001b[1;32m   1099\u001b[0m               \u001b[0;32mif\u001b[0m \u001b[0mdata_handler\u001b[0m\u001b[0;34m.\u001b[0m\u001b[0mshould_sync\u001b[0m\u001b[0;34m:\u001b[0m\u001b[0;34m\u001b[0m\u001b[0;34m\u001b[0m\u001b[0m\n\u001b[1;32m   1100\u001b[0m                 \u001b[0mcontext\u001b[0m\u001b[0;34m.\u001b[0m\u001b[0masync_wait\u001b[0m\u001b[0;34m(\u001b[0m\u001b[0;34m)\u001b[0m\u001b[0;34m\u001b[0m\u001b[0;34m\u001b[0m\u001b[0m\n",
            "\u001b[0;32m/usr/local/lib/python3.6/dist-packages/tensorflow/python/eager/def_function.py\u001b[0m in \u001b[0;36m__call__\u001b[0;34m(self, *args, **kwds)\u001b[0m\n\u001b[1;32m    778\u001b[0m       \u001b[0;32melse\u001b[0m\u001b[0;34m:\u001b[0m\u001b[0;34m\u001b[0m\u001b[0;34m\u001b[0m\u001b[0m\n\u001b[1;32m    779\u001b[0m         \u001b[0mcompiler\u001b[0m \u001b[0;34m=\u001b[0m \u001b[0;34m\"nonXla\"\u001b[0m\u001b[0;34m\u001b[0m\u001b[0;34m\u001b[0m\u001b[0m\n\u001b[0;32m--> 780\u001b[0;31m         \u001b[0mresult\u001b[0m \u001b[0;34m=\u001b[0m \u001b[0mself\u001b[0m\u001b[0;34m.\u001b[0m\u001b[0m_call\u001b[0m\u001b[0;34m(\u001b[0m\u001b[0;34m*\u001b[0m\u001b[0margs\u001b[0m\u001b[0;34m,\u001b[0m \u001b[0;34m**\u001b[0m\u001b[0mkwds\u001b[0m\u001b[0;34m)\u001b[0m\u001b[0;34m\u001b[0m\u001b[0;34m\u001b[0m\u001b[0m\n\u001b[0m\u001b[1;32m    781\u001b[0m \u001b[0;34m\u001b[0m\u001b[0m\n\u001b[1;32m    782\u001b[0m       \u001b[0mnew_tracing_count\u001b[0m \u001b[0;34m=\u001b[0m \u001b[0mself\u001b[0m\u001b[0;34m.\u001b[0m\u001b[0m_get_tracing_count\u001b[0m\u001b[0;34m(\u001b[0m\u001b[0;34m)\u001b[0m\u001b[0;34m\u001b[0m\u001b[0;34m\u001b[0m\u001b[0m\n",
            "\u001b[0;32m/usr/local/lib/python3.6/dist-packages/tensorflow/python/eager/def_function.py\u001b[0m in \u001b[0;36m_call\u001b[0;34m(self, *args, **kwds)\u001b[0m\n\u001b[1;32m    805\u001b[0m       \u001b[0;31m# In this case we have created variables on the first call, so we run the\u001b[0m\u001b[0;34m\u001b[0m\u001b[0;34m\u001b[0m\u001b[0;34m\u001b[0m\u001b[0m\n\u001b[1;32m    806\u001b[0m       \u001b[0;31m# defunned version which is guaranteed to never create variables.\u001b[0m\u001b[0;34m\u001b[0m\u001b[0;34m\u001b[0m\u001b[0;34m\u001b[0m\u001b[0m\n\u001b[0;32m--> 807\u001b[0;31m       \u001b[0;32mreturn\u001b[0m \u001b[0mself\u001b[0m\u001b[0;34m.\u001b[0m\u001b[0m_stateless_fn\u001b[0m\u001b[0;34m(\u001b[0m\u001b[0;34m*\u001b[0m\u001b[0margs\u001b[0m\u001b[0;34m,\u001b[0m \u001b[0;34m**\u001b[0m\u001b[0mkwds\u001b[0m\u001b[0;34m)\u001b[0m  \u001b[0;31m# pylint: disable=not-callable\u001b[0m\u001b[0;34m\u001b[0m\u001b[0;34m\u001b[0m\u001b[0m\n\u001b[0m\u001b[1;32m    808\u001b[0m     \u001b[0;32melif\u001b[0m \u001b[0mself\u001b[0m\u001b[0;34m.\u001b[0m\u001b[0m_stateful_fn\u001b[0m \u001b[0;32mis\u001b[0m \u001b[0;32mnot\u001b[0m \u001b[0;32mNone\u001b[0m\u001b[0;34m:\u001b[0m\u001b[0;34m\u001b[0m\u001b[0;34m\u001b[0m\u001b[0m\n\u001b[1;32m    809\u001b[0m       \u001b[0;31m# Release the lock early so that multiple threads can perform the call\u001b[0m\u001b[0;34m\u001b[0m\u001b[0;34m\u001b[0m\u001b[0;34m\u001b[0m\u001b[0m\n",
            "\u001b[0;32m/usr/local/lib/python3.6/dist-packages/tensorflow/python/eager/function.py\u001b[0m in \u001b[0;36m__call__\u001b[0;34m(self, *args, **kwargs)\u001b[0m\n\u001b[1;32m   2827\u001b[0m     \u001b[0;32mwith\u001b[0m \u001b[0mself\u001b[0m\u001b[0;34m.\u001b[0m\u001b[0m_lock\u001b[0m\u001b[0;34m:\u001b[0m\u001b[0;34m\u001b[0m\u001b[0;34m\u001b[0m\u001b[0m\n\u001b[1;32m   2828\u001b[0m       \u001b[0mgraph_function\u001b[0m\u001b[0;34m,\u001b[0m \u001b[0margs\u001b[0m\u001b[0;34m,\u001b[0m \u001b[0mkwargs\u001b[0m \u001b[0;34m=\u001b[0m \u001b[0mself\u001b[0m\u001b[0;34m.\u001b[0m\u001b[0m_maybe_define_function\u001b[0m\u001b[0;34m(\u001b[0m\u001b[0margs\u001b[0m\u001b[0;34m,\u001b[0m \u001b[0mkwargs\u001b[0m\u001b[0;34m)\u001b[0m\u001b[0;34m\u001b[0m\u001b[0;34m\u001b[0m\u001b[0m\n\u001b[0;32m-> 2829\u001b[0;31m     \u001b[0;32mreturn\u001b[0m \u001b[0mgraph_function\u001b[0m\u001b[0;34m.\u001b[0m\u001b[0m_filtered_call\u001b[0m\u001b[0;34m(\u001b[0m\u001b[0margs\u001b[0m\u001b[0;34m,\u001b[0m \u001b[0mkwargs\u001b[0m\u001b[0;34m)\u001b[0m  \u001b[0;31m# pylint: disable=protected-access\u001b[0m\u001b[0;34m\u001b[0m\u001b[0;34m\u001b[0m\u001b[0m\n\u001b[0m\u001b[1;32m   2830\u001b[0m \u001b[0;34m\u001b[0m\u001b[0m\n\u001b[1;32m   2831\u001b[0m   \u001b[0;34m@\u001b[0m\u001b[0mproperty\u001b[0m\u001b[0;34m\u001b[0m\u001b[0;34m\u001b[0m\u001b[0m\n",
            "\u001b[0;32m/usr/local/lib/python3.6/dist-packages/tensorflow/python/eager/function.py\u001b[0m in \u001b[0;36m_filtered_call\u001b[0;34m(self, args, kwargs, cancellation_manager)\u001b[0m\n\u001b[1;32m   1846\u001b[0m                            resource_variable_ops.BaseResourceVariable))],\n\u001b[1;32m   1847\u001b[0m         \u001b[0mcaptured_inputs\u001b[0m\u001b[0;34m=\u001b[0m\u001b[0mself\u001b[0m\u001b[0;34m.\u001b[0m\u001b[0mcaptured_inputs\u001b[0m\u001b[0;34m,\u001b[0m\u001b[0;34m\u001b[0m\u001b[0;34m\u001b[0m\u001b[0m\n\u001b[0;32m-> 1848\u001b[0;31m         cancellation_manager=cancellation_manager)\n\u001b[0m\u001b[1;32m   1849\u001b[0m \u001b[0;34m\u001b[0m\u001b[0m\n\u001b[1;32m   1850\u001b[0m   \u001b[0;32mdef\u001b[0m \u001b[0m_call_flat\u001b[0m\u001b[0;34m(\u001b[0m\u001b[0mself\u001b[0m\u001b[0;34m,\u001b[0m \u001b[0margs\u001b[0m\u001b[0;34m,\u001b[0m \u001b[0mcaptured_inputs\u001b[0m\u001b[0;34m,\u001b[0m \u001b[0mcancellation_manager\u001b[0m\u001b[0;34m=\u001b[0m\u001b[0;32mNone\u001b[0m\u001b[0;34m)\u001b[0m\u001b[0;34m:\u001b[0m\u001b[0;34m\u001b[0m\u001b[0;34m\u001b[0m\u001b[0m\n",
            "\u001b[0;32m/usr/local/lib/python3.6/dist-packages/tensorflow/python/eager/function.py\u001b[0m in \u001b[0;36m_call_flat\u001b[0;34m(self, args, captured_inputs, cancellation_manager)\u001b[0m\n\u001b[1;32m   1922\u001b[0m       \u001b[0;31m# No tape is watching; skip to running the function.\u001b[0m\u001b[0;34m\u001b[0m\u001b[0;34m\u001b[0m\u001b[0;34m\u001b[0m\u001b[0m\n\u001b[1;32m   1923\u001b[0m       return self._build_call_outputs(self._inference_function.call(\n\u001b[0;32m-> 1924\u001b[0;31m           ctx, args, cancellation_manager=cancellation_manager))\n\u001b[0m\u001b[1;32m   1925\u001b[0m     forward_backward = self._select_forward_and_backward_functions(\n\u001b[1;32m   1926\u001b[0m         \u001b[0margs\u001b[0m\u001b[0;34m,\u001b[0m\u001b[0;34m\u001b[0m\u001b[0;34m\u001b[0m\u001b[0m\n",
            "\u001b[0;32m/usr/local/lib/python3.6/dist-packages/tensorflow/python/eager/function.py\u001b[0m in \u001b[0;36mcall\u001b[0;34m(self, ctx, args, cancellation_manager)\u001b[0m\n\u001b[1;32m    548\u001b[0m               \u001b[0minputs\u001b[0m\u001b[0;34m=\u001b[0m\u001b[0margs\u001b[0m\u001b[0;34m,\u001b[0m\u001b[0;34m\u001b[0m\u001b[0;34m\u001b[0m\u001b[0m\n\u001b[1;32m    549\u001b[0m               \u001b[0mattrs\u001b[0m\u001b[0;34m=\u001b[0m\u001b[0mattrs\u001b[0m\u001b[0;34m,\u001b[0m\u001b[0;34m\u001b[0m\u001b[0;34m\u001b[0m\u001b[0m\n\u001b[0;32m--> 550\u001b[0;31m               ctx=ctx)\n\u001b[0m\u001b[1;32m    551\u001b[0m         \u001b[0;32melse\u001b[0m\u001b[0;34m:\u001b[0m\u001b[0;34m\u001b[0m\u001b[0;34m\u001b[0m\u001b[0m\n\u001b[1;32m    552\u001b[0m           outputs = execute.execute_with_cancellation(\n",
            "\u001b[0;32m/usr/local/lib/python3.6/dist-packages/tensorflow/python/eager/execute.py\u001b[0m in \u001b[0;36mquick_execute\u001b[0;34m(op_name, num_outputs, inputs, attrs, ctx, name)\u001b[0m\n\u001b[1;32m     58\u001b[0m     \u001b[0mctx\u001b[0m\u001b[0;34m.\u001b[0m\u001b[0mensure_initialized\u001b[0m\u001b[0;34m(\u001b[0m\u001b[0;34m)\u001b[0m\u001b[0;34m\u001b[0m\u001b[0;34m\u001b[0m\u001b[0m\n\u001b[1;32m     59\u001b[0m     tensors = pywrap_tfe.TFE_Py_Execute(ctx._handle, device_name, op_name,\n\u001b[0;32m---> 60\u001b[0;31m                                         inputs, attrs, num_outputs)\n\u001b[0m\u001b[1;32m     61\u001b[0m   \u001b[0;32mexcept\u001b[0m \u001b[0mcore\u001b[0m\u001b[0;34m.\u001b[0m\u001b[0m_NotOkStatusException\u001b[0m \u001b[0;32mas\u001b[0m \u001b[0me\u001b[0m\u001b[0;34m:\u001b[0m\u001b[0;34m\u001b[0m\u001b[0;34m\u001b[0m\u001b[0m\n\u001b[1;32m     62\u001b[0m     \u001b[0;32mif\u001b[0m \u001b[0mname\u001b[0m \u001b[0;32mis\u001b[0m \u001b[0;32mnot\u001b[0m \u001b[0;32mNone\u001b[0m\u001b[0;34m:\u001b[0m\u001b[0;34m\u001b[0m\u001b[0;34m\u001b[0m\u001b[0m\n",
            "\u001b[0;31mKeyboardInterrupt\u001b[0m: "
          ]
        }
      ]
    },
    {
      "cell_type": "code",
      "metadata": {
        "id": "wpV4HdgM36Th",
        "outputId": "f73463d5-dca7-4e3f-9282-89f3d9cfb004",
        "colab": {
          "base_uri": "https://localhost:8080/",
          "height": 241
        }
      },
      "source": [
        "with open('/tmp/chn_seg_albert.pkl', 'rb') as fp:\n",
        "    tag_best = pickle.load(fp)\n",
        "\n",
        "save_model(tag_best, 'drive/My Drive/chn_seg/chn_seg_albert')"
      ],
      "execution_count": null,
      "outputs": [
        {
          "output_type": "stream",
          "text": [
            "WARNING:tensorflow:5 out of the last 5 calls to <function recreate_function.<locals>.restored_function_body at 0x7fa34955f840> triggered tf.function retracing. Tracing is expensive and the excessive number of tracings could be due to (1) creating @tf.function repeatedly in a loop, (2) passing tensors with different shapes, (3) passing Python objects instead of tensors. For (1), please define your @tf.function outside of the loop. For (2), @tf.function has experimental_relax_shapes=True option that relaxes argument shapes that can avoid unnecessary retracing. For (3), please refer to https://www.tensorflow.org/tutorials/customization/performance#python_or_tensor_args and https://www.tensorflow.org/api_docs/python/tf/function for  more details.\n"
          ],
          "name": "stdout"
        },
        {
          "output_type": "stream",
          "text": [
            "WARNING:tensorflow:5 out of the last 5 calls to <function recreate_function.<locals>.restored_function_body at 0x7fa34955f840> triggered tf.function retracing. Tracing is expensive and the excessive number of tracings could be due to (1) creating @tf.function repeatedly in a loop, (2) passing tensors with different shapes, (3) passing Python objects instead of tensors. For (1), please define your @tf.function outside of the loop. For (2), @tf.function has experimental_relax_shapes=True option that relaxes argument shapes that can avoid unnecessary retracing. For (3), please refer to https://www.tensorflow.org/tutorials/customization/performance#python_or_tensor_args and https://www.tensorflow.org/api_docs/python/tf/function for  more details.\n"
          ],
          "name": "stderr"
        },
        {
          "output_type": "stream",
          "text": [
            "WARNING:tensorflow:6 out of the last 6 calls to <function recreate_function.<locals>.restored_function_body at 0x7fa349579598> triggered tf.function retracing. Tracing is expensive and the excessive number of tracings could be due to (1) creating @tf.function repeatedly in a loop, (2) passing tensors with different shapes, (3) passing Python objects instead of tensors. For (1), please define your @tf.function outside of the loop. For (2), @tf.function has experimental_relax_shapes=True option that relaxes argument shapes that can avoid unnecessary retracing. For (3), please refer to https://www.tensorflow.org/tutorials/customization/performance#python_or_tensor_args and https://www.tensorflow.org/api_docs/python/tf/function for  more details.\n"
          ],
          "name": "stdout"
        },
        {
          "output_type": "stream",
          "text": [
            "WARNING:tensorflow:6 out of the last 6 calls to <function recreate_function.<locals>.restored_function_body at 0x7fa349579598> triggered tf.function retracing. Tracing is expensive and the excessive number of tracings could be due to (1) creating @tf.function repeatedly in a loop, (2) passing tensors with different shapes, (3) passing Python objects instead of tensors. For (1), please define your @tf.function outside of the loop. For (2), @tf.function has experimental_relax_shapes=True option that relaxes argument shapes that can avoid unnecessary retracing. For (3), please refer to https://www.tensorflow.org/tutorials/customization/performance#python_or_tensor_args and https://www.tensorflow.org/api_docs/python/tf/function for  more details.\n"
          ],
          "name": "stderr"
        },
        {
          "output_type": "stream",
          "text": [
            "WARNING:tensorflow:7 out of the last 7 calls to <function recreate_function.<locals>.restored_function_body at 0x7fa34955f268> triggered tf.function retracing. Tracing is expensive and the excessive number of tracings could be due to (1) creating @tf.function repeatedly in a loop, (2) passing tensors with different shapes, (3) passing Python objects instead of tensors. For (1), please define your @tf.function outside of the loop. For (2), @tf.function has experimental_relax_shapes=True option that relaxes argument shapes that can avoid unnecessary retracing. For (3), please refer to https://www.tensorflow.org/tutorials/customization/performance#python_or_tensor_args and https://www.tensorflow.org/api_docs/python/tf/function for  more details.\n"
          ],
          "name": "stdout"
        },
        {
          "output_type": "stream",
          "text": [
            "WARNING:tensorflow:7 out of the last 7 calls to <function recreate_function.<locals>.restored_function_body at 0x7fa34955f268> triggered tf.function retracing. Tracing is expensive and the excessive number of tracings could be due to (1) creating @tf.function repeatedly in a loop, (2) passing tensors with different shapes, (3) passing Python objects instead of tensors. For (1), please define your @tf.function outside of the loop. For (2), @tf.function has experimental_relax_shapes=True option that relaxes argument shapes that can avoid unnecessary retracing. For (3), please refer to https://www.tensorflow.org/tutorials/customization/performance#python_or_tensor_args and https://www.tensorflow.org/api_docs/python/tf/function for  more details.\n"
          ],
          "name": "stderr"
        },
        {
          "output_type": "stream",
          "text": [
            "WARNING:tensorflow:8 out of the last 8 calls to <function recreate_function.<locals>.restored_function_body at 0x7fa37d4d3510> triggered tf.function retracing. Tracing is expensive and the excessive number of tracings could be due to (1) creating @tf.function repeatedly in a loop, (2) passing tensors with different shapes, (3) passing Python objects instead of tensors. For (1), please define your @tf.function outside of the loop. For (2), @tf.function has experimental_relax_shapes=True option that relaxes argument shapes that can avoid unnecessary retracing. For (3), please refer to https://www.tensorflow.org/tutorials/customization/performance#python_or_tensor_args and https://www.tensorflow.org/api_docs/python/tf/function for  more details.\n"
          ],
          "name": "stdout"
        },
        {
          "output_type": "stream",
          "text": [
            "WARNING:tensorflow:8 out of the last 8 calls to <function recreate_function.<locals>.restored_function_body at 0x7fa37d4d3510> triggered tf.function retracing. Tracing is expensive and the excessive number of tracings could be due to (1) creating @tf.function repeatedly in a loop, (2) passing tensors with different shapes, (3) passing Python objects instead of tensors. For (1), please define your @tf.function outside of the loop. For (2), @tf.function has experimental_relax_shapes=True option that relaxes argument shapes that can avoid unnecessary retracing. For (3), please refer to https://www.tensorflow.org/tutorials/customization/performance#python_or_tensor_args and https://www.tensorflow.org/api_docs/python/tf/function for  more details.\n"
          ],
          "name": "stderr"
        },
        {
          "output_type": "stream",
          "text": [
            "WARNING:tensorflow:No training configuration found in save file, so the model was *not* compiled. Compile it manually.\n"
          ],
          "name": "stdout"
        },
        {
          "output_type": "stream",
          "text": [
            "WARNING:tensorflow:No training configuration found in save file, so the model was *not* compiled. Compile it manually.\n"
          ],
          "name": "stderr"
        },
        {
          "output_type": "stream",
          "text": [
            "INFO:tensorflow:Assets written to: drive/My Drive/chn_seg/chn_seg_albert/assets\n"
          ],
          "name": "stdout"
        },
        {
          "output_type": "stream",
          "text": [
            "INFO:tensorflow:Assets written to: drive/My Drive/chn_seg/chn_seg_albert/assets\n"
          ],
          "name": "stderr"
        }
      ]
    },
    {
      "cell_type": "code",
      "metadata": {
        "id": "-43JIDlTFyBo"
      },
      "source": [
        ""
      ],
      "execution_count": null,
      "outputs": []
    }
  ]
}